{
  "cells": [
    {
      "cell_type": "code",
      "execution_count": null,
      "metadata": {
        "colab": {
          "base_uri": "https://localhost:8080/"
        },
        "id": "11szAj4e1rP0",
        "outputId": "9222ce00-3a22-4625-ca5a-ff094fb1a057"
      },
      "outputs": [
        {
          "name": "stdout",
          "output_type": "stream",
          "text": [
            "Looking in indexes: https://pypi.org/simple, https://us-python.pkg.dev/colab-wheels/public/simple/\n",
            "Collecting finlab\n",
            "  Downloading finlab-0.4.2-cp310-cp310-manylinux_2_17_x86_64.manylinux2014_x86_64.whl (2.1 MB)\n",
            "\u001b[2K     \u001b[90m━━━━━━━━━━━━━━━━━━━━━━━━━━━━━━━━━━━━━━━━\u001b[0m \u001b[32m2.1/2.1 MB\u001b[0m \u001b[31m18.9 MB/s\u001b[0m eta \u001b[36m0:00:00\u001b[0m\n",
            "\u001b[?25hRequirement already satisfied: requests in /usr/local/lib/python3.10/dist-packages (from finlab) (2.27.1)\n",
            "Requirement already satisfied: numpy>=1.21.6 in /usr/local/lib/python3.10/dist-packages (from finlab) (1.22.4)\n",
            "Requirement already satisfied: pandas>=1.0.3 in /usr/local/lib/python3.10/dist-packages (from finlab) (1.5.3)\n",
            "Requirement already satisfied: pyarrow>=2.0.0 in /usr/local/lib/python3.10/dist-packages (from finlab) (9.0.0)\n",
            "Collecting lz4 (from finlab)\n",
            "  Downloading lz4-4.3.2-cp310-cp310-manylinux_2_17_x86_64.manylinux2014_x86_64.whl (1.3 MB)\n",
            "\u001b[2K     \u001b[90m━━━━━━━━━━━━━━━━━━━━━━━━━━━━━━━━━━━━━━━━\u001b[0m \u001b[32m1.3/1.3 MB\u001b[0m \u001b[31m28.6 MB/s\u001b[0m eta \u001b[36m0:00:00\u001b[0m\n",
            "\u001b[?25hRequirement already satisfied: Cython in /usr/local/lib/python3.10/dist-packages (from finlab) (0.29.34)\n",
            "Requirement already satisfied: tqdm in /usr/local/lib/python3.10/dist-packages (from finlab) (4.65.0)\n",
            "Requirement already satisfied: jinja2 in /usr/local/lib/python3.10/dist-packages (from finlab) (3.1.2)\n",
            "Requirement already satisfied: python-dateutil>=2.8.1 in /usr/local/lib/python3.10/dist-packages (from pandas>=1.0.3->finlab) (2.8.2)\n",
            "Requirement already satisfied: pytz>=2020.1 in /usr/local/lib/python3.10/dist-packages (from pandas>=1.0.3->finlab) (2022.7.1)\n",
            "Requirement already satisfied: MarkupSafe>=2.0 in /usr/local/lib/python3.10/dist-packages (from jinja2->finlab) (2.1.2)\n",
            "Requirement already satisfied: urllib3<1.27,>=1.21.1 in /usr/local/lib/python3.10/dist-packages (from requests->finlab) (1.26.15)\n",
            "Requirement already satisfied: certifi>=2017.4.17 in /usr/local/lib/python3.10/dist-packages (from requests->finlab) (2022.12.7)\n",
            "Requirement already satisfied: charset-normalizer~=2.0.0 in /usr/local/lib/python3.10/dist-packages (from requests->finlab) (2.0.12)\n",
            "Requirement already satisfied: idna<4,>=2.5 in /usr/local/lib/python3.10/dist-packages (from requests->finlab) (3.4)\n",
            "Requirement already satisfied: six>=1.5 in /usr/local/lib/python3.10/dist-packages (from python-dateutil>=2.8.1->pandas>=1.0.3->finlab) (1.16.0)\n",
            "Installing collected packages: lz4, finlab\n",
            "Successfully installed finlab-0.4.2 lz4-4.3.2\n"
          ]
        }
      ],
      "source": [
        "!pip install finlab\n"
      ]
    },
    {
      "cell_type": "code",
      "execution_count": null,
      "metadata": {
        "colab": {
          "base_uri": "https://localhost:8080/"
        },
        "id": "p6kFK36xTaWg",
        "outputId": "06782256-9a2c-4697-8bd0-2f9a2521c16e"
      },
      "outputs": [
        {
          "name": "stdout",
          "output_type": "stream",
          "text": [
            "--2023-04-27 06:03:02--  http://prdownloads.sourceforge.net/ta-lib/ta-lib-0.4.0-src.tar.gz\n",
            "Resolving prdownloads.sourceforge.net (prdownloads.sourceforge.net)... 204.68.111.105\n",
            "Connecting to prdownloads.sourceforge.net (prdownloads.sourceforge.net)|204.68.111.105|:80... connected.\n",
            "HTTP request sent, awaiting response... 301 Moved Permanently\n",
            "Location: http://downloads.sourceforge.net/project/ta-lib/ta-lib/0.4.0/ta-lib-0.4.0-src.tar.gz [following]\n",
            "--2023-04-27 06:03:03--  http://downloads.sourceforge.net/project/ta-lib/ta-lib/0.4.0/ta-lib-0.4.0-src.tar.gz\n",
            "Resolving downloads.sourceforge.net (downloads.sourceforge.net)... 204.68.111.105\n",
            "Reusing existing connection to prdownloads.sourceforge.net:80.\n",
            "HTTP request sent, awaiting response... 302 Found\n",
            "Location: http://cfhcable.dl.sourceforge.net/project/ta-lib/ta-lib/0.4.0/ta-lib-0.4.0-src.tar.gz [following]\n",
            "--2023-04-27 06:03:03--  http://cfhcable.dl.sourceforge.net/project/ta-lib/ta-lib/0.4.0/ta-lib-0.4.0-src.tar.gz\n",
            "Resolving cfhcable.dl.sourceforge.net (cfhcable.dl.sourceforge.net)... 146.71.73.6\n",
            "Connecting to cfhcable.dl.sourceforge.net (cfhcable.dl.sourceforge.net)|146.71.73.6|:80... connected.\n",
            "HTTP request sent, awaiting response... 200 OK\n",
            "Length: 1330299 (1.3M) [application/x-gzip]\n",
            "Saving to: ‘ta-lib-0.4.0-src.tar.gz’\n",
            "\n",
            "ta-lib-0.4.0-src.ta 100%[===================>]   1.27M  7.23MB/s    in 0.2s    \n",
            "\n",
            "2023-04-27 06:03:03 (7.23 MB/s) - ‘ta-lib-0.4.0-src.tar.gz’ saved [1330299/1330299]\n",
            "\n",
            "ta-lib/\n",
            "ta-lib/config.sub\n",
            "ta-lib/aclocal.m4\n",
            "ta-lib/CHANGELOG.TXT\n",
            "ta-lib/include/\n",
            "ta-lib/include/ta_abstract.h\n",
            "ta-lib/include/ta_func.h\n",
            "ta-lib/include/ta_common.h\n",
            "ta-lib/include/ta_config.h.in\n",
            "ta-lib/include/Makefile.am\n",
            "ta-lib/include/ta_libc.h\n",
            "ta-lib/include/ta_defs.h\n",
            "ta-lib/missing\n",
            "ta-lib/ta-lib.spec.in\n",
            "ta-lib/config.guess\n",
            "ta-lib/Makefile.in\n",
            "ta-lib/ta-lib.dpkg.in\n",
            "ta-lib/Makefile.am\n",
            "ta-lib/autogen.sh\n",
            "ta-lib/install-sh\n",
            "ta-lib/configure\n",
            "ta-lib/depcomp\n",
            "ta-lib/HISTORY.TXT\n",
            "ta-lib/configure.in\n",
            "ta-lib/autom4te.cache/\n",
            "ta-lib/autom4te.cache/output.0\n",
            "ta-lib/autom4te.cache/requests\n",
            "ta-lib/autom4te.cache/output.1\n",
            "ta-lib/autom4te.cache/traces.0\n",
            "ta-lib/autom4te.cache/traces.1\n",
            "ta-lib/ltmain.sh\n",
            "ta-lib/ta-lib-config.in\n",
            "ta-lib/src/\n",
            "ta-lib/src/ta_func/\n",
            "ta-lib/src/ta_func/ta_MACDFIX.c\n",
            "ta-lib/src/ta_func/ta_CDLPIERCING.c\n",
            "ta-lib/src/ta_func/ta_DIV.c\n",
            "ta-lib/src/ta_func/ta_ROCR100.c\n",
            "ta-lib/src/ta_func/ta_ADXR.c\n",
            "ta-lib/src/ta_func/ta_MAVP.c\n",
            "ta-lib/src/ta_func/ta_CDLCLOSINGMARUBOZU.c\n",
            "ta-lib/src/ta_func/ta_COSH.c\n",
            "ta-lib/src/ta_func/ta_EXP.c\n",
            "ta-lib/src/ta_func/ta_MINMAXINDEX.c\n",
            "ta-lib/src/ta_func/ta_SQRT.c\n",
            "ta-lib/src/ta_func/ta_FLOOR.c\n",
            "ta-lib/src/ta_func/ta_CDLCONCEALBABYSWALL.c\n",
            "ta-lib/src/ta_func/ta_NATR.c\n",
            "ta-lib/src/ta_func/ta_CDLHARAMICROSS.c\n",
            "ta-lib/src/ta_func/ta_MINUS_DM.c\n",
            "ta-lib/src/ta_func/ta_LOG10.c\n",
            "ta-lib/src/ta_func/ta_LINEARREG_ANGLE.c\n",
            "ta-lib/src/ta_func/ta_RSI.c\n",
            "ta-lib/src/ta_func/ta_CDLABANDONEDBABY.c\n",
            "ta-lib/src/ta_func/ta_SAR.c\n",
            "ta-lib/src/ta_func/ta_CDLBREAKAWAY.c\n",
            "ta-lib/src/ta_func/ta_CDLDRAGONFLYDOJI.c\n",
            "ta-lib/src/ta_func/ta_CDLHIGHWAVE.c\n",
            "ta-lib/src/ta_func/ta_CDLKICKING.c\n",
            "ta-lib/src/ta_func/ta_CDLDOJISTAR.c\n",
            "ta-lib/src/ta_func/ta_VAR.c\n",
            "ta-lib/src/ta_func/ta_CDLMATCHINGLOW.c\n",
            "ta-lib/src/ta_func/ta_CDLGAPSIDESIDEWHITE.c\n",
            "ta-lib/src/ta_func/ta_CDLMARUBOZU.c\n",
            "ta-lib/src/ta_func/ta_AROONOSC.c\n",
            "ta-lib/src/ta_func/ta_WCLPRICE.c\n",
            "ta-lib/src/ta_func/ta_CDLEVENINGDOJISTAR.c\n",
            "ta-lib/src/ta_func/ta_CDL3INSIDE.c\n",
            "ta-lib/src/ta_func/ta_OBV.c\n",
            "ta-lib/src/ta_func/ta_AROON.c\n",
            "ta-lib/src/ta_func/ta_CDLBELTHOLD.c\n",
            "ta-lib/src/ta_func/ta_CDLSPINNINGTOP.c\n",
            "ta-lib/src/ta_func/ta_AD.c\n",
            "ta-lib/src/ta_func/ta_MAX.c\n",
            "ta-lib/src/ta_func/ta_CDLENGULFING.c\n",
            "ta-lib/src/ta_func/ta_MINMAX.c\n",
            "ta-lib/src/ta_func/ta_CDLINNECK.c\n",
            "ta-lib/src/ta_func/ta_STDDEV.c\n",
            "ta-lib/src/ta_func/ta_NVI.c\n",
            "ta-lib/src/ta_func/ta_CDLHAMMER.c\n",
            "ta-lib/src/ta_func/ta_ASIN.c\n",
            "ta-lib/src/ta_func/ta_SUM.c\n",
            "ta-lib/src/ta_func/ta_STOCH.c\n",
            "ta-lib/src/ta_func/ta_CDLLONGLEGGEDDOJI.c\n",
            "ta-lib/src/ta_func/ta_MEDPRICE.c\n",
            "ta-lib/src/ta_func/ta_CDL3STARSINSOUTH.c\n",
            "ta-lib/src/ta_func/ta_HT_TRENDMODE.c\n",
            "ta-lib/src/ta_func/ta_BBANDS.c\n",
            "ta-lib/src/ta_func/ta_CDLMORNINGSTAR.c\n",
            "ta-lib/src/ta_func/ta_HT_DCPHASE.c\n",
            "ta-lib/src/ta_func/ta_CDLLONGLINE.c\n",
            "ta-lib/src/ta_func/ta_TAN.c\n",
            "ta-lib/src/ta_func/ta_SMA.c\n",
            "ta-lib/src/ta_func/ta_DX.c\n",
            "ta-lib/src/ta_func/ta_MIDPOINT.c\n",
            "ta-lib/src/ta_func/ta_CDL2CROWS.c\n",
            "ta-lib/src/ta_func/ta_CORREL.c\n",
            "ta-lib/src/ta_func/ta_CDL3BLACKCROWS.c\n",
            "ta-lib/src/ta_func/ta_ADD.c\n",
            "ta-lib/src/ta_func/Makefile.in\n",
            "ta-lib/src/ta_func/ta_CDLTHRUSTING.c\n",
            "ta-lib/src/ta_func/ta_SUB.c\n",
            "ta-lib/src/ta_func/ta_CDLSTALLEDPATTERN.c\n",
            "ta-lib/src/ta_func/ta_CDLTRISTAR.c\n",
            "ta-lib/src/ta_func/ta_MA.c\n",
            "ta-lib/src/ta_func/ta_HT_SINE.c\n",
            "ta-lib/src/ta_func/ta_ACOS.c\n",
            "ta-lib/src/ta_func/ta_CDLSTICKSANDWICH.c\n",
            "ta-lib/src/ta_func/ta_SINH.c\n",
            "ta-lib/src/ta_func/ta_utility.h\n",
            "ta-lib/src/ta_func/ta_CDLSHORTLINE.c\n",
            "ta-lib/src/ta_func/ta_ATAN.c\n",
            "ta-lib/src/ta_func/ta_CDLADVANCEBLOCK.c\n",
            "ta-lib/src/ta_func/ta_CDLKICKINGBYLENGTH.c\n",
            "ta-lib/src/ta_func/ta_CDLSHOOTINGSTAR.c\n",
            "ta-lib/src/ta_func/ta_ROCR.c\n",
            "ta-lib/src/ta_func/ta_WMA.c\n",
            "ta-lib/src/ta_func/ta_CDLDARKCLOUDCOVER.c\n",
            "ta-lib/src/ta_func/ta_CDLXSIDEGAP3METHODS.c\n",
            "ta-lib/src/ta_func/ta_TYPPRICE.c\n",
            "ta-lib/src/ta_func/ta_CDL3WHITESOLDIERS.c\n",
            "ta-lib/src/ta_func/Makefile.am\n",
            "ta-lib/src/ta_func/ta_MACDEXT.c\n",
            "ta-lib/src/ta_func/ta_ADX.c\n",
            "ta-lib/src/ta_func/ta_PLUS_DM.c\n",
            "ta-lib/src/ta_func/ta_CDLUPSIDEGAP2CROWS.c\n",
            "ta-lib/src/ta_func/ta_LN.c\n",
            "ta-lib/src/ta_func/ta_DEMA.c\n",
            "ta-lib/src/ta_func/ta_CDL3OUTSIDE.c\n",
            "ta-lib/src/ta_func/ta_CDLTASUKIGAP.c\n",
            "ta-lib/src/ta_func/ta_MAMA.c\n",
            "ta-lib/src/ta_func/ta_CDLMORNINGDOJISTAR.c\n",
            "ta-lib/src/ta_func/ta_PLUS_DI.c\n",
            "ta-lib/src/ta_func/ta_MININDEX.c\n",
            "ta-lib/src/ta_func/ta_COS.c\n",
            "ta-lib/src/ta_func/ta_HT_TRENDLINE.c\n",
            "ta-lib/src/ta_func/ta_MIDPRICE.c\n",
            "ta-lib/src/ta_func/ta_CEIL.c\n",
            "ta-lib/src/ta_func/ta_TRIMA.c\n",
            "ta-lib/src/ta_func/ta_CDLSEPARATINGLINES.c\n",
            "ta-lib/src/ta_func/ta_ROCP.c\n",
            "ta-lib/src/ta_func/ta_CDLHOMINGPIGEON.c\n",
            "ta-lib/src/ta_func/ta_CDLHANGINGMAN.c\n",
            "ta-lib/src/ta_func/ta_AVGPRICE.c\n",
            "ta-lib/src/ta_func/ta_APO.c\n",
            "ta-lib/src/ta_func/ta_CDLRISEFALL3METHODS.c\n",
            "ta-lib/src/ta_func/ta_TRANGE.c\n",
            "ta-lib/src/ta_func/ta_TSF.c\n",
            "ta-lib/src/ta_func/ta_LINEARREG.c\n",
            "ta-lib/src/ta_func/ta_PVI.c\n",
            "ta-lib/src/ta_func/ta_CDLHIKKAKEMOD.c\n",
            "ta-lib/src/ta_func/ta_MFI.c\n",
            "ta-lib/src/ta_func/ta_CDLHARAMI.c\n",
            "ta-lib/src/ta_func/ta_MACD.c\n",
            "ta-lib/src/ta_func/ta_BETA.c\n",
            "ta-lib/src/ta_func/ta_CDLINVERTEDHAMMER.c\n",
            "ta-lib/src/ta_func/ta_LINEARREG_SLOPE.c\n",
            "ta-lib/src/ta_func/ta_STOCHF.c\n",
            "ta-lib/src/ta_func/ta_MIN.c\n",
            "ta-lib/src/ta_func/ta_CDLIDENTICAL3CROWS.c\n",
            "ta-lib/src/ta_func/ta_CDLRICKSHAWMAN.c\n",
            "ta-lib/src/ta_func/ta_T3.c\n",
            "ta-lib/src/ta_func/ta_CDLMATHOLD.c\n",
            "ta-lib/src/ta_func/ta_CDLUNIQUE3RIVER.c\n",
            "ta-lib/src/ta_func/ta_ADOSC.c\n",
            "ta-lib/src/ta_func/ta_MAXINDEX.c\n",
            "ta-lib/src/ta_func/ta_ULTOSC.c\n",
            "ta-lib/src/ta_func/ta_TRIX.c\n",
            "ta-lib/src/ta_func/ta_MOM.c\n",
            "ta-lib/src/ta_func/ta_CDLDOJI.c\n",
            "ta-lib/src/ta_func/ta_EMA.c\n",
            "ta-lib/src/ta_func/ta_STOCHRSI.c\n",
            "ta-lib/src/ta_func/ta_ROC.c\n",
            "ta-lib/src/ta_func/ta_CDLEVENINGSTAR.c\n",
            "ta-lib/src/ta_func/ta_CDLCOUNTERATTACK.c\n",
            "ta-lib/src/ta_func/ta_LINEARREG_INTERCEPT.c\n",
            "ta-lib/src/ta_func/ta_SAREXT.c\n",
            "ta-lib/src/ta_func/ta_WILLR.c\n",
            "ta-lib/src/ta_func/ta_MULT.c\n",
            "ta-lib/src/ta_func/ta_ATR.c\n",
            "ta-lib/src/ta_func/ta_BOP.c\n",
            "ta-lib/src/ta_func/ta_CMO.c\n",
            "ta-lib/src/ta_func/ta_CDLONNECK.c\n",
            "ta-lib/src/ta_func/ta_CCI.c\n",
            "ta-lib/src/ta_func/ta_CDLLADDERBOTTOM.c\n",
            "ta-lib/src/ta_func/ta_HT_PHASOR.c\n",
            "ta-lib/src/ta_func/ta_utility.c\n",
            "ta-lib/src/ta_func/ta_PPO.c\n",
            "ta-lib/src/ta_func/ta_CDLHIKKAKE.c\n",
            "ta-lib/src/ta_func/ta_HT_DCPERIOD.c\n",
            "ta-lib/src/ta_func/ta_CDL3LINESTRIKE.c\n",
            "ta-lib/src/ta_func/ta_TEMA.c\n",
            "ta-lib/src/ta_func/ta_SIN.c\n",
            "ta-lib/src/ta_func/ta_MINUS_DI.c\n",
            "ta-lib/src/ta_func/ta_KAMA.c\n",
            "ta-lib/src/ta_func/ta_TANH.c\n",
            "ta-lib/src/ta_func/ta_CDLTAKURI.c\n",
            "ta-lib/src/ta_func/ta_CDLGRAVESTONEDOJI.c\n",
            "ta-lib/src/ta_common/\n",
            "ta-lib/src/ta_common/ta_pragma.h\n",
            "ta-lib/src/ta_common/ta_magic_nb.h\n",
            "ta-lib/src/ta_common/ta_retcode.csv\n",
            "ta-lib/src/ta_common/Makefile.in\n",
            "ta-lib/src/ta_common/Makefile.am\n",
            "ta-lib/src/ta_common/ta_memory.h\n",
            "ta-lib/src/ta_common/ta_version.c\n",
            "ta-lib/src/ta_common/ta_global.h\n",
            "ta-lib/src/ta_common/ta_global.c\n",
            "ta-lib/src/ta_common/ta_retcode.c\n",
            "ta-lib/src/Makefile.in\n",
            "ta-lib/src/ta_abstract/\n",
            "ta-lib/src/ta_abstract/frames/\n",
            "ta-lib/src/ta_abstract/frames/ta_frame.c\n",
            "ta-lib/src/ta_abstract/frames/ta_frame.h\n",
            "ta-lib/src/ta_abstract/excel_glue.c\n",
            "ta-lib/src/ta_abstract/ta_frame_priv.h\n",
            "ta-lib/src/ta_abstract/ta_func_api.c\n",
            "ta-lib/src/ta_abstract/Makefile.in\n",
            "ta-lib/src/ta_abstract/ta_def_ui.h\n",
            "ta-lib/src/ta_abstract/Makefile.am\n",
            "ta-lib/src/ta_abstract/ta_abstract.c\n",
            "ta-lib/src/ta_abstract/ta_group_idx.c\n",
            "ta-lib/src/ta_abstract/tables/\n",
            "ta-lib/src/ta_abstract/tables/table_u.c\n",
            "ta-lib/src/ta_abstract/tables/table_x.c\n",
            "ta-lib/src/ta_abstract/tables/table_r.c\n",
            "ta-lib/src/ta_abstract/tables/table_f.c\n",
            "ta-lib/src/ta_abstract/tables/table_j.c\n",
            "ta-lib/src/ta_abstract/tables/table_e.c\n",
            "ta-lib/src/ta_abstract/tables/table_t.c\n",
            "ta-lib/src/ta_abstract/tables/table_n.c\n",
            "ta-lib/src/ta_abstract/tables/table_i.c\n",
            "ta-lib/src/ta_abstract/tables/table_c.c\n",
            "ta-lib/src/ta_abstract/tables/table_l.c\n",
            "ta-lib/src/ta_abstract/tables/table_k.c\n",
            "ta-lib/src/ta_abstract/tables/table_g.c\n",
            "ta-lib/src/ta_abstract/tables/table_d.c\n",
            "ta-lib/src/ta_abstract/tables/table_h.c\n",
            "ta-lib/src/ta_abstract/tables/table_o.c\n",
            "ta-lib/src/ta_abstract/tables/table_b.c\n",
            "ta-lib/src/ta_abstract/tables/table_q.c\n",
            "ta-lib/src/ta_abstract/tables/table_v.c\n",
            "ta-lib/src/ta_abstract/tables/table_m.c\n",
            "ta-lib/src/ta_abstract/tables/table_s.c\n",
            "ta-lib/src/ta_abstract/tables/table_y.c\n",
            "ta-lib/src/ta_abstract/tables/table_p.c\n",
            "ta-lib/src/ta_abstract/tables/table_z.c\n",
            "ta-lib/src/ta_abstract/tables/table_a.c\n",
            "ta-lib/src/ta_abstract/tables/table_w.c\n",
            "ta-lib/src/ta_abstract/ta_def_ui.c\n",
            "ta-lib/src/ta_abstract/templates/\n",
            "ta-lib/src/ta_abstract/templates/ta_x.c.template\n",
            "ta-lib/src/ta_abstract/templates/ta_java_defs.h.template\n",
            "ta-lib/src/ta_abstract/templates/excel_glue.c.template\n",
            "ta-lib/src/ta_abstract/templates/ta_group_idx.c.template\n",
            "ta-lib/src/ta_abstract/templates/ta_frame.c.template\n",
            "ta-lib/src/ta_abstract/templates/CoreAnnotated.java.template\n",
            "ta-lib/src/ta_abstract/templates/ta_func.h.template\n",
            "ta-lib/src/ta_abstract/templates/ta_frame.h.template\n",
            "ta-lib/src/ta_abstract/templates/Makefile.am.template\n",
            "ta-lib/src/ta_abstract/templates/ta_func_api.c.template\n",
            "ta-lib/src/ta_abstract/templates/ta_func.swg.template\n",
            "ta-lib/src/ta_abstract/templates/ta_retcode.c.template\n",
            "ta-lib/src/ta_abstract/ta_java_defs.h\n",
            "ta-lib/src/Makefile.am\n",
            "ta-lib/src/tools/\n",
            "ta-lib/src/tools/ta_regtest/\n",
            "ta-lib/src/tools/ta_regtest/test_util.c\n",
            "ta-lib/src/tools/ta_regtest/ta_test_func.h\n",
            "ta-lib/src/tools/ta_regtest/test_data.c\n",
            "ta-lib/src/tools/ta_regtest/ta_gDataHigh.c\n",
            "ta-lib/src/tools/ta_regtest/Makefile.in\n",
            "ta-lib/src/tools/ta_regtest/test_internals.c\n",
            "ta-lib/src/tools/ta_regtest/Makefile.am\n",
            "ta-lib/src/tools/ta_regtest/ta_regtest.c\n",
            "ta-lib/src/tools/ta_regtest/ta_gDataOpen.c\n",
            "ta-lib/src/tools/ta_regtest/ta_gDataClose.c\n",
            "ta-lib/src/tools/ta_regtest/test_abstract.c\n",
            "ta-lib/src/tools/ta_regtest/ta_test_func/\n",
            "ta-lib/src/tools/ta_regtest/ta_test_func/test_bbands.c\n",
            "ta-lib/src/tools/ta_regtest/ta_test_func/test_stddev.c\n",
            "ta-lib/src/tools/ta_regtest/ta_test_func/test_1in_2out.c\n",
            "ta-lib/src/tools/ta_regtest/ta_test_func/test_sar.c\n",
            "ta-lib/src/tools/ta_regtest/ta_test_func/test_1in_1out.c\n",
            "ta-lib/src/tools/ta_regtest/ta_test_func/test_trange.c\n",
            "ta-lib/src/tools/ta_regtest/ta_test_func/test_macd.c\n",
            "ta-lib/src/tools/ta_regtest/ta_test_func/test_po.c\n",
            "ta-lib/src/tools/ta_regtest/ta_test_func/test_per_hlc.c\n",
            "ta-lib/src/tools/ta_regtest/ta_test_func/test_mom.c\n",
            "ta-lib/src/tools/ta_regtest/ta_test_func/test_per_ohlc.c\n",
            "ta-lib/src/tools/ta_regtest/ta_test_func/test_adx.c\n",
            "ta-lib/src/tools/ta_regtest/ta_test_func/test_candlestick.c\n",
            "ta-lib/src/tools/ta_regtest/ta_test_func/test_rsi.c\n",
            "ta-lib/src/tools/ta_regtest/ta_test_func/test_per_ema.c\n",
            "ta-lib/src/tools/ta_regtest/ta_test_func/test_minmax.c\n",
            "ta-lib/src/tools/ta_regtest/ta_test_func/test_per_hlcv.c\n",
            "ta-lib/src/tools/ta_regtest/ta_test_func/test_per_hl.c\n",
            "ta-lib/src/tools/ta_regtest/ta_test_func/test_stoch.c\n",
            "ta-lib/src/tools/ta_regtest/ta_test_func/test_ma.c\n",
            "ta-lib/src/tools/ta_regtest/ta_error_number.h\n",
            "ta-lib/src/tools/ta_regtest/ta_test_priv.h\n",
            "ta-lib/src/tools/ta_regtest/ReadMe.txt\n",
            "ta-lib/src/tools/ta_regtest/ta_gDataLow.c\n",
            "ta-lib/src/tools/Makefile.in\n",
            "ta-lib/src/tools/Makefile.am\n",
            "ta-lib/src/tools/gen_code/\n",
            "ta-lib/src/tools/gen_code/java/\n",
            "ta-lib/src/tools/gen_code/java/PrettyCode.java\n",
            "ta-lib/src/tools/gen_code/java/Main.java\n",
            "ta-lib/src/tools/gen_code/gen_code.c\n",
            "ta-lib/src/tools/gen_code/Makefile.in\n",
            "ta-lib/src/tools/gen_code/Makefile.am\n",
            "ta-lib/src/tools/gen_code/mcpp.exe\n",
            "/content/ta-lib\n",
            "checking for a BSD-compatible install... /usr/bin/install -c\n",
            "checking whether build environment is sane... make: *** No targets specified and no makefile found.  Stop.\n",
            "make: *** No rule to make target 'install'.  Stop.\n",
            "Looking in indexes: https://pypi.org/simple, https://us-python.pkg.dev/colab-wheels/public/simple/\n",
            "Collecting Ta-Lib\n",
            "  Downloading TA-Lib-0.4.26.tar.gz (272 kB)\n",
            "\u001b[2K     \u001b[90m━━━━━━━━━━━━━━━━━━━━━━━━━━━━━━━━━━━━━━\u001b[0m \u001b[32m272.6/272.6 kB\u001b[0m \u001b[31m18.3 MB/s\u001b[0m eta \u001b[36m0:00:00\u001b[0m\n",
            "\u001b[?25h  Installing build dependencies ... \u001b[?25l\u001b[?25hcanceled\n",
            "Traceback (most recent call last):\n",
            "  File \"/usr/local/lib/python3.9/dist-packages/pip/_internal/cli/base_command.py\", line 160, in exc_logging_wrapper\n",
            "    status = run_func(*args)\n",
            "  File \"/usr/local/lib/python3.9/dist-packages/pip/_internal/cli/req_command.py\", line 241, in wrapper\n",
            "    return func(self, options, args)\n",
            "  File \"/usr/local/lib/python3.9/dist-packages/pip/_internal/commands/install.py\", line 419, in run\n",
            "    requirement_set = resolver.resolve(\n",
            "  File \"/usr/local/lib/python3.9/dist-packages/pip/_internal/resolution/resolvelib/resolver.py\", line 92, in resolve\n",
            "    result = self._result = resolver.resolve(\n",
            "  File \"/usr/local/lib/python3.9/dist-packages/pip/_vendor/resolvelib/resolvers.py\", line 481, in resolve\n",
            "    state = resolution.resolve(requirements, max_rounds=max_rounds)\n",
            "  File \"/usr/local/lib/python3.9/dist-packages/pip/_vendor/resolvelib/resolvers.py\", line 348, in resolve\n",
            "    self._add_to_criteria(self.state.criteria, r, parent=None)\n",
            "  File \"/usr/local/lib/python3.9/dist-packages/pip/_vendor/resolvelib/resolvers.py\", line 172, in _add_to_criteria\n",
            "    if not criterion.candidates:\n",
            "  File \"/usr/local/lib/python3.9/dist-packages/pip/_vendor/resolvelib/structs.py\", line 151, in __bool__\n",
            "    return bool(self._sequence)\n",
            "  File \"/usr/local/lib/python3.9/dist-packages/pip/_internal/resolution/resolvelib/found_candidates.py\", line 155, in __bool__\n",
            "    return any(self)\n",
            "  File \"/usr/local/lib/python3.9/dist-packages/pip/_internal/resolution/resolvelib/found_candidates.py\", line 143, in <genexpr>\n",
            "    return (c for c in iterator if id(c) not in self._incompatible_ids)\n",
            "  File \"/usr/local/lib/python3.9/dist-packages/pip/_internal/resolution/resolvelib/found_candidates.py\", line 47, in _iter_built\n",
            "    candidate = func()\n",
            "  File \"/usr/local/lib/python3.9/dist-packages/pip/_internal/resolution/resolvelib/factory.py\", line 206, in _make_candidate_from_link\n",
            "    self._link_candidate_cache[link] = LinkCandidate(\n",
            "  File \"/usr/local/lib/python3.9/dist-packages/pip/_internal/resolution/resolvelib/candidates.py\", line 297, in __init__\n",
            "    super().__init__(\n",
            "  File \"/usr/local/lib/python3.9/dist-packages/pip/_internal/resolution/resolvelib/candidates.py\", line 162, in __init__\n",
            "    self.dist = self._prepare()\n",
            "  File \"/usr/local/lib/python3.9/dist-packages/pip/_internal/resolution/resolvelib/candidates.py\", line 231, in _prepare\n",
            "    dist = self._prepare_distribution()\n",
            "  File \"/usr/local/lib/python3.9/dist-packages/pip/_internal/resolution/resolvelib/candidates.py\", line 308, in _prepare_distribution\n",
            "    return preparer.prepare_linked_requirement(self._ireq, parallel_builds=True)\n",
            "  File \"/usr/local/lib/python3.9/dist-packages/pip/_internal/operations/prepare.py\", line 491, in prepare_linked_requirement\n",
            "    return self._prepare_linked_requirement(req, parallel_builds)\n",
            "  File \"/usr/local/lib/python3.9/dist-packages/pip/_internal/operations/prepare.py\", line 577, in _prepare_linked_requirement\n",
            "    dist = _get_prepared_distribution(\n",
            "  File \"/usr/local/lib/python3.9/dist-packages/pip/_internal/operations/prepare.py\", line 69, in _get_prepared_distribution\n",
            "    abstract_dist.prepare_distribution_metadata(\n",
            "  File \"/usr/local/lib/python3.9/dist-packages/pip/_internal/distributions/sdist.py\", line 38, in prepare_distribution_metadata\n",
            "    self._prepare_build_backend(finder)\n",
            "  File \"/usr/local/lib/python3.9/dist-packages/pip/_internal/distributions/sdist.py\", line 70, in _prepare_build_backend\n",
            "    self.req.build_env.install_requirements(\n",
            "  File \"/usr/local/lib/python3.9/dist-packages/pip/_internal/build_env.py\", line 217, in install_requirements\n",
            "    self._install_requirements(\n",
            "  File \"/usr/local/lib/python3.9/dist-packages/pip/_internal/build_env.py\", line 275, in _install_requirements\n",
            "    call_subprocess(\n",
            "  File \"/usr/local/lib/python3.9/dist-packages/pip/_internal/utils/subprocess.py\", line 166, in call_subprocess\n",
            "    line: str = proc.stdout.readline()\n",
            "KeyboardInterrupt\n",
            "\n",
            "During handling of the above exception, another exception occurred:\n",
            "\n",
            "Traceback (most recent call last):\n",
            "  File \"/usr/local/bin/pip3\", line 8, in <module>\n",
            "    sys.exit(main())\n",
            "  File \"/usr/local/lib/python3.9/dist-packages/pip/_internal/cli/main.py\", line 70, in main\n",
            "    return command.main(cmd_args)\n",
            "  File \"/usr/local/lib/python3.9/dist-packages/pip/_internal/cli/base_command.py\", line 101, in main\n",
            "    return self._main(args)\n",
            "  File \"/usr/local/lib/python3.9/dist-packages/pip/_internal/cli/base_command.py\", line 214, in _main\n",
            "    return run(options, args)\n",
            "  File \"/usr/local/lib/python3.9/dist-packages/pip/_internal/cli/base_command.py\", line 197, in exc_logging_wrapper\n",
            "    logger.critical(\"Operation cancelled by user\")\n",
            "  File \"/usr/lib/python3.9/logging/__init__.py\", line 1493, in critical\n",
            "    self._log(CRITICAL, msg, args, **kwargs)\n",
            "  File \"/usr/lib/python3.9/logging/__init__.py\", line 1589, in _log\n",
            "    self.handle(record)\n",
            "  File \"/usr/lib/python3.9/logging/__init__.py\", line 1599, in handle\n",
            "    self.callHandlers(record)\n",
            "  File \"/usr/lib/python3.9/logging/__init__.py\", line 1661, in callHandlers\n",
            "    hdlr.handle(record)\n",
            "  File \"/usr/lib/python3.9/logging/__init__.py\", line 952, in handle\n",
            "    self.emit(record)\n",
            "  File \"/usr/local/lib/python3.9/dist-packages/pip/_internal/utils/logging.py\", line 172, in emit\n",
            "    style = Style(color=\"red\")\n",
            "  File \"/usr/local/lib/python3.9/dist-packages/pip/_vendor/rich/style.py\", line 146, in __init__\n",
            "    def _make_color(color: Union[Color, str]) -> Color:\n",
            "  File \"/usr/lib/python3.9/typing.py\", line 274, in inner\n",
            "    return cached(*args, **kwds)\n",
            "KeyboardInterrupt\n",
            "^C\n"
          ]
        }
      ],
      "source": [
        "!wget http://prdownloads.sourceforge.net/ta-lib/ta-lib-0.4.0-src.tar.gz\n",
        "!tar -xzvf ta-lib-0.4.0-src.tar.gz\n",
        "%cd ta-lib\n",
        "!./configure --prefix=/usr\n",
        "!make\n",
        "!make install\n",
        "!pip install Ta-Lib"
      ]
    },
    {
      "cell_type": "markdown",
      "metadata": {
        "id": "7QDJW6y4WNl6"
      },
      "source": [
        "pairs trading"
      ]
    },
    {
      "cell_type": "code",
      "execution_count": null,
      "metadata": {
        "colab": {
          "base_uri": "https://localhost:8080/"
        },
        "id": "nN01s9SGWQq-",
        "outputId": "b24c44d7-726e-49b6-a2f3-06902f0e85cd"
      },
      "outputs": [
        {
          "name": "stdout",
          "output_type": "stream",
          "text": [
            "輸入成功!\n"
          ]
        },
        {
          "name": "stderr",
          "output_type": "stream",
          "text": [
            "<ipython-input-14-29c255cf7d12>:26: DeprecationWarning: The truth value of an empty array is ambiguous. Returning False, but in future this will result in an error. Use `array.size > 0` to check that an array is not empty.\n",
            "  if not value:\n"
          ]
        },
        {
          "name": "stdout",
          "output_type": "stream",
          "text": [
            "              1101    1102    1103    1104    1110    1201    1210    1216  \\\n",
            "2013-01-02  0.5613  0.5417  0.3879  0.1060  0.2358  0.5182  0.2994  0.1939   \n",
            "2013-01-03  0.5551  0.5437  0.3913  0.1157  0.2547  0.5171  0.2965  0.1939   \n",
            "2013-01-04  0.5613  0.5317  0.3845  0.1301  0.2075  0.5137  0.2994  0.2078   \n",
            "2013-01-07  0.5572  0.5238  0.3913  0.1470  0.2453  0.5421  0.3067  0.1911   \n",
            "2013-01-08  0.5405  0.5179  0.3948  0.1518  0.2547  0.5319  0.3081  0.1884   \n",
            "...            ...     ...     ...     ...     ...     ...     ...     ...   \n",
            "2020-12-25  0.7193  0.7500  0.7215  0.4313  0.9340  0.1401  0.9157  0.5374   \n",
            "2020-12-28  0.7277  0.7639  0.7318  0.4795  0.9528  0.1526  1.0000  0.5540   \n",
            "2020-12-29  0.7277  0.7698  0.7352  0.4554  0.9717  0.1538  0.9797  0.5540   \n",
            "2020-12-30  0.7380  0.7679  0.7455  0.4578  1.0000  0.1481  0.9695  0.5789   \n",
            "2020-12-31  0.7360  0.7698  0.7455  0.4458  0.9811  0.1481  0.9942  0.5706   \n",
            "\n",
            "              1218    1227  ...    6803    8011    8039    8044    8046  \\\n",
            "2013-01-02  0.3508  0.6090  ...  0.0117  0.5233  0.2011  0.1535  0.0843   \n",
            "2013-01-03  0.3453  0.6154  ...  0.0351  0.5233  0.1970  0.1732  0.0865   \n",
            "2013-01-04  0.3426  0.6090  ...  0.0234  0.5377  0.2326  0.1732  0.0865   \n",
            "2013-01-07  0.3481  0.6186  ...  0.0175  0.5267  0.2585  0.1743  0.0834   \n",
            "2013-01-08  0.3372  0.6154  ...  0.0234  0.5216  0.2298  0.1689  0.0795   \n",
            "...            ...     ...  ...     ...     ...     ...     ...     ...   \n",
            "2020-12-25  0.9209  0.2740  ...  0.9006  0.2248  0.7100  0.0537  0.8934   \n",
            "2020-12-28  1.0000  0.2772  ...  0.9064  0.2239  0.7100  0.0533  0.9239   \n",
            "2020-12-29  0.9482  0.2692  ...  0.9006  0.2231  0.6936  0.0564  0.9330   \n",
            "2020-12-30  0.9618  0.2788  ...  0.9064  0.2239  0.6936  0.0581  0.9513   \n",
            "2020-12-31  0.9727  0.2837  ...  0.9006  0.2477  0.7018  0.0548  0.9756   \n",
            "\n",
            "              8050    8069    8070    8072    8076  \n",
            "2013-01-02  0.1173  0.2827  0.4316  0.8622  0.1057  \n",
            "2013-01-03  0.1206  0.2728  0.4298  0.8684  0.1030  \n",
            "2013-01-04  0.1151  0.2728  0.4316  0.8684  0.1046  \n",
            "2013-01-07  0.1184  0.2563  0.4246  0.8697  0.1089  \n",
            "2013-01-08  0.1184  0.2541  0.4228  0.8534  0.1059  \n",
            "...            ...     ...     ...     ...     ...  \n",
            "2020-12-25  0.1754  0.7690  0.0661  0.1046  0.0429  \n",
            "2020-12-28  0.1700  0.7987  0.0675  0.1071  0.0426  \n",
            "2020-12-29  0.1667  0.7767  0.0646  0.1078  0.0471  \n",
            "2020-12-30  0.1678  0.7833  0.0675  0.1153  0.0458  \n",
            "2020-12-31  0.1732  0.7800  0.0681  0.1128  0.0463  \n",
            "\n",
            "[1962 rows x 400 columns]\n",
            "['1101', '1102', '1103', '1104', '1110', '1201', '1210', '1216', '1218', '1227', '1229', '1231', '1232', '1234', '1301', '1303', '1304', '1305', '1307', '1308', '1312', '1313', '1314', '1319', '1326', '1337', '1338', '1402', '1409', '1419', '1434', '1440', '1442', '1444', '1447', '1476', '1477', '1503', '1504', '1507', '1513', '1532', '1535', '1558', '1560', '1565', '1580', '1582', '1590', '1605', '1608', '1614', '1701', '1702', '1707', '1708', '1709', '1710', '1711', '1714', '1717', '1718', '1722', '1723', '1726', '1733', '1736', '1773', '1785', '1789', '1795', '1802', '1808', '1903', '1904', '1905', '1907', '1909', '2002', '2006', '2010', '2013', '2014', '2015', '2023', '2027', '2029', '2031', '2034', '2035', '2049', '2059', '2062', '2101', '2102', '2103', '2104', '2105', '2106', '2107', '2108', '2114', '2201', '2204', '2206', '2207', '2208', '2227', '2231', '2301', '2303', '2308', '2312', '2313', '2317', '2324', '2328', '2330', '2332', '2337', '2344', '2345', '2347', '2352', '2353', '2354', '2355', '2356', '2357', '2360', '2362', '2363', '2367', '2371', '2373', '2374', '2376', '2377', '2379', '2382', '2383', '2385', '2388', '2392', '2393', '2395', '2406', '2408', '2409', '2412', '2430', '2439', '2441', '2448', '2449', '2450', '2451', '2454', '2455', '2457', '2458', '2474', '2485', '2489', '2498', '2501', '2504', '2505', '2511', '2514', '2515', '2520', '2524', '2530', '2534', '2535', '2536', '2538', '2539', '2542', '2545', '2547', '2548', '2597', '2601', '2603', '2605', '2606', '2607', '2608', '2609', '2610', '2612', '2615', '2617', '2618', '2637', '2701', '2704', '2706', '2707', '2723', '2727', '2801', '2809', '2812', '2820', '2823', '2832', '2834', '2836', '2838', '2841', '2845', '2849', '2850', '2851', '2855', '2867', '2880', '2881', '2882', '2883', '2884', '2885', '2886', '2887', '2888', '2889', '2890', '2891', '2892', '2903', '2905', '2908', '2910', '2912', '2913', '2915', '2923', '3005', '3006', '3008', '3010', '3019', '3022', '3023', '3030', '3033', '3034', '3035', '3036', '3037', '3041', '3042', '3044', '3045', '3049', '3060', '3062', '3105', '3149', '3176', '3189', '3211', '3227', '3231', '3260', '3264', '3266', '3293', '3356', '3376', '3380', '3406', '3443', '3450', '3454', '3481', '3504', '3508', '3515', '3532', '3533', '3545', '3576', '3596', '3607', '3622', '3630', '3653', '3673', '3691', '3698', '3702', '3703', '3705', '4104', '4105', '4108', '4114', '4119', '4123', '4126', '4128', '4141', '4142', '4152', '4162', '4164', '4168', '4306', '4414', '4416', '4532', '4743', '4904', '4906', '4915', '4919', '4927', '4933', '4938', '4958', '4960', '4966', '4979', '4994', '5007', '5009', '5203', '5213', '5306', '5324', '5347', '5371', '5388', '5392', '5434', '5469', '5471', '5478', '5483', '5508', '5512', '5519', '5522', '5530', '5531', '5534', '5536', '5608', '5820', '5871', '5880', '5903', '5904', '5907', '6005', '6023', '6115', '6116', '6120', '6121', '6124', '6139', '6146', '6147', '6153', '6166', '6176', '6177', '6182', '6184', '6202', '6206', '6213', '6214', '6239', '6244', '6257', '6261', '6269', '6271', '6278', '6281', '6282', '6285', '6505', '6605', '6803', '8011', '8039', '8044', '8046', '8050', '8069', '8070', '8072', '8076']\n"
          ]
        }
      ],
      "source": [
        "import finlab\n",
        "from finlab import data\n",
        "from finlab.backtest import sim\n",
        "import pandas as pd\n",
        "import numpy as np\n",
        "import matplotlib.pyplot as plt\n",
        "import math\n",
        "\n",
        "finlab.login('key')\n",
        "\n",
        "\n",
        "收盤價 = data.get(\"price:收盤價\")\n",
        "收盤價.dropna(axis='columns')\n",
        "#print(收盤價)\n",
        "info = data.get('company_basic_info')\n",
        "shares = info.loc[:,[\"stock_id\",\"已發行普通股數或TDR原發行股數\"]]\n",
        "def filter(k):\n",
        "  market_value = []\n",
        "  for i in range(len(收盤價)):\n",
        "    share = []\n",
        "    stock_name = 收盤價.columns[i]\n",
        "    price = 收盤價.loc[收盤價.index[k],stock_name]\n",
        "    share.append(stock_name)\n",
        "    #print(share)\n",
        "    value = shares.loc[shares[\"stock_id\"]==stock_name, \"已發行普通股數或TDR原發行股數\"].values\n",
        "    if not value:\n",
        "      value = np.append(value, 0)\n",
        "    value = price*value\n",
        "    share.append(value[0])\n",
        "    if str(share[1])=='nan':\n",
        "      del share[-1]\n",
        "      share.append(0)\n",
        "    #print(share)\n",
        "    market_value.append(share)\n",
        "  market_value.sort(key=lambda x:x[1])\n",
        "  stock_list = []\n",
        "  for i in range(1,401):\n",
        "    name = market_value[-i][0]\n",
        "    stock_list.append(name)\n",
        "  #print(stock_list)\n",
        "  return stock_list\n",
        "\n",
        "# normalzie price\n",
        "def normalize_data(stock_list):\n",
        "  normalization = pd.DataFrame()\n",
        "  for i in range(0,len(收盤價)):\n",
        "    if 收盤價.columns[i] in stock_list:\n",
        "      df = 收盤價.iloc[:,i]\n",
        "      max = df.max()\n",
        "      min = df.min()\n",
        "      df = round((df-min)/(max-min),4)\n",
        "      normalization = pd.concat([normalization, df], axis = 1)\n",
        "      stock_name = normalization.columns\n",
        "  return normalization, list(stock_name)\n",
        "# print(stock_name)\n",
        "# print('sadf')\n",
        "# print(normalization)\n",
        "# normalization.iloc[:,]\n",
        "# fig = plt.figure()\n",
        "# plt.plot(normalization.iloc[:,[6,8]],'-')\n",
        "\n",
        "#euclidean distance\n",
        "def euclidean_dist(k, normalization):\n",
        "  all_dist = np.empty((0, 400), float)\n",
        "  for i in range(0,400):\n",
        "    all_list = [999] * (i+1)\n",
        "    dist = []\n",
        "    for j in range(i+1,len(normalization.columns)):\n",
        "      num = round(math.dist(normalization.iloc[k-246:k,i], normalization.iloc[k-246:k,j]),4)\n",
        "\n",
        "      if num == math.nan:\n",
        "        dist.append(999)\n",
        "      dist.append(num)\n",
        "\n",
        "    all_list.extend(dist)\n",
        "    all_dist = np.append(all_dist,np.array([all_list]),axis=0)\n",
        "  return all_dist\n",
        "#print(all_dist)\n",
        "def update_dist(all_dist, k, normalization):\n",
        "  for i in range(0,400):\n",
        "    dist = all_dist[i]\n",
        "    for j in range(i+1,len(normalization.columns)):\n",
        "       dist[j]+= round(math.dist(normalization.iloc[k,i], normalization.iloc[k,j]),4)\n",
        "    all_dist[i] = dist\n",
        "  return all_dist\n",
        "\n",
        "\n",
        "#find 20th smallest\n",
        "def smallest(all_dist, stock_name):\n",
        "  index_array = np.argpartition(all_dist.flatten(), kth=20)[:20]\n",
        "  count = [0] * 400\n",
        "  new_index_array = []\n",
        "  name_index_array = []\n",
        "  for i in range(20):\n",
        "    if (count[index_array[i] // all_dist.shape[1]]==0 and count[index_array[i] % all_dist.shape[1]]==0):\n",
        "      name_index_array.append([stock_name[index_array[i] // all_dist.shape[1]], stock_name[index_array[i] % all_dist.shape[1]]])\n",
        "      new_index_array.append([index_array[i] // all_dist.shape[1], index_array[i] % all_dist.shape[1]])\n",
        "      count[index_array[i] // all_dist.shape[1]]=1\n",
        "      count[index_array[i] % all_dist.shape[1]]=1\n",
        "  new_index_array = np.array(new_index_array)\n",
        "  return new_index_array, name_index_array\n",
        "\n",
        "# print(new_index_array)\n",
        "# print(normalization.shape)\n",
        "# print(new_index_array[0][0], new_index_array[0][1])\n",
        "# print(all_dist[new_index_array[0][0], new_index_array[0][1]])\n",
        "# print(round(math.dist(normalization.iloc[:,new_index_array[0][0]], normalization.iloc[:,new_index_array[0][1]]), 4))\n",
        "\n",
        "#get pairs information\n",
        "def get_pair(new_index_array, name_index_array, normalization):\n",
        "  pair = []\n",
        "  pair_mean = []\n",
        "  pair_diff_normalization = pd.DataFrame()\n",
        "  for i in range(len(name_index_array)):\n",
        "    pair.append(normalization.iloc[:,[new_index_array[i][0], new_index_array[i][1]]])\n",
        "    df = pair[i].iloc[:, 0] - pair[i].iloc[:, 1]\n",
        "    pair_diff_normalization[i] = (df-df.mean())/df.std()\n",
        "    pair_mean.append(df.mean())\n",
        "  return pair_diff_normalization, pair_mean\n",
        "\n",
        "# print(pair)\n",
        "# print(pair_diff_normalization)\n",
        "stock_list = filter(0)\n",
        "normalization, stock_name = normalize_data(stock_list)\n",
        "print(normalization)\n",
        "print(stock_name)"
      ]
    },
    {
      "cell_type": "code",
      "execution_count": null,
      "metadata": {
        "id": "txroSptByNhZ"
      },
      "outputs": [],
      "source": [
        "# print(收盤價.iloc[:,400:800])\n",
        "# print('sadf')\n",
        "# print(normalization)\n",
        "# print(first_two_years.columns[400:800])\n",
        "print(all_dist)\n",
        "print(new_index_array)\n",
        "print(new_index_array)\n",
        "# print(stock_name[224], stock_name[337])\n",
        "# print(all_dist[224][337])\n",
        "print(name_index_array)"
      ]
    },
    {
      "cell_type": "markdown",
      "metadata": {
        "id": "MlyqHueqR-40"
      },
      "source": [
        "進出場訊號"
      ]
    },
    {
      "cell_type": "markdown",
      "metadata": {
        "id": "f8dyUzOT7jdB"
      },
      "source": [
        "修正版"
      ]
    },
    {
      "cell_type": "code",
      "execution_count": null,
      "metadata": {
        "id": "oI__hbvvR9_X"
      },
      "outputs": [],
      "source": [
        "#print(normalization.index)\n",
        "def trade_period(k, position, pair_diff_normalization, name_index_array, pair_mean):\n",
        "  name_index_array = np.array(name_index_array)\n",
        "  for i in range(k, k+120):\n",
        "    for j in range(0,len(name_index_array)):\n",
        "      num=len(name_index_array)\n",
        "      if(pair_mean[j] > 0):\n",
        "        stock1 = name_index_array[j][0]\n",
        "        stock2 = name_index_array[j][1]\n",
        "      else:\n",
        "        stock1 = name_index_array[j][1]\n",
        "        stock2 = name_index_array[j][0]\n",
        "      #print(type(position.loc[position.index[i],[stock1]]))\n",
        "      if(pair_diff_normalization.iloc[i,j]>=1 and pair_diff_normalization.iloc[i-2,j]<1):\n",
        "        # print(position.loc[position.index[i],[stock1]])\n",
        "        position.loc[position.index[i],[stock1]] = -1\n",
        "        print(\"sell \"+ stock1)\n",
        "        position.loc[position.index[i],[stock2]] = 1\n",
        "        print(\"buy \"+ stock2)\n",
        "        print(position.index[i])\n",
        "        #print(1)\n",
        "      elif(pair_diff_normalization.iloc[i,j]<=-1 and pair_diff_normalization.iloc[i-2,j]>-1):\n",
        "        # print(position.loc[position.index[i],[stock1]])\n",
        "        position.loc[position.index[i],[stock1]] = 1\n",
        "        print(\"buy \"+ stock1)\n",
        "        position.loc[position.index[i],[stock2]] = -1\n",
        "        print(\"sell \"+ stock2)\n",
        "        print(position.index[i])\n",
        "        #print(2)\n",
        "      elif(pair_diff_normalization.iloc[i,j]>=0 and pair_diff_normalization.iloc[i-2,j]<=0):\n",
        "        position.loc[position.index[i],[stock1]] = 0\n",
        "        #print(\"take \"+ stock1)\n",
        "        position.loc[position.index[i],[stock2]] = 0\n",
        "        #print(\"take \"+ stock2)\n",
        "        #print(position.index[i])\n",
        "        #print(0)\n",
        "      elif(pair_diff_normalization.iloc[i,j]<=0 and pair_diff_normalization.iloc[i-2,j]>=0):\n",
        "        position.loc[position.index[i],[stock1]] = 0\n",
        "        #print(\"take \"+ stock1)\n",
        "        position.loc[position.index[i],[stock2]] = 0\n",
        "        #print(\"take \"+ stock2)\n",
        "        #print(position.index[i])\n",
        "        #print(0)\n",
        "      elif(pair_diff_normalization.iloc[i,j]>=2 and pair_diff_normalization.iloc[i-2,j]<2):\n",
        "        # print(position.loc[position.index[i],[stock1]])\n",
        "        position.loc[position.index[i],[stock1]] = 0\n",
        "        print(\"stop \"+ stock1)\n",
        "        position.loc[position.index[i],[stock2]] = 0\n",
        "        print(\"stop \"+ stock2)\n",
        "        #print(position.index[i])\n",
        "        #print(name_index_array)\n",
        "        #print([stock1,stock2])\n",
        "        index = np.argwhere(name_index_array==[stock1])\n",
        "        #print(index)\n",
        "        a = index[0][0]*2\n",
        "        b =a+1\n",
        "        name_index_array = np.delete(name_index_array, [a,b])\n",
        "        name_index_array = np.reshape(name_index_array, (num-1,-1))\n",
        "        #print(name_index_array)\n",
        "      elif(pair_diff_normalization.iloc[i,j]<=-2 and pair_diff_normalization.iloc[i-2,j]>-2):\n",
        "        # print(position.loc[position.index[i],[stock1]])\n",
        "        position.loc[position.index[i],[stock1]] = 0\n",
        "        print(\"stop \"+ stock1)\n",
        "        position.loc[position.index[i],[stock2]] = 0\n",
        "        print(\"stop \"+ stock2)\n",
        "        #print(position.index[i])\n",
        "        #print(name_index_array)\n",
        "        #print([stock1,stock2])\n",
        "        index = np.argwhere(name_index_array==[stock1])\n",
        "        #print(index)\n",
        "        #print(type(name_index_array))\n",
        "        a = index[0][0]*2\n",
        "        b =a+1\n",
        "        name_index_array = np.delete(name_index_array, [a,b])\n",
        "        name_index_array = np.reshape(name_index_array, (num-1,-1))\n",
        "        #print(name_index_array)\n",
        "      else:\n",
        "        position.loc[position.index[i], [stock1]] = position.loc[position.index[i-1], [stock1]]\n",
        "        position.loc[position.index[i], [stock2]] = position.loc[position.index[i-1], [stock2]]\n",
        "      if(i==k+119):\n",
        "        position.loc[position.index[i],[stock1]] = 0\n",
        "        position.loc[position.index[i],[stock2]] = 0\n",
        "      if(j==len(name_index_array)-1):\n",
        "        break\n",
        "  return position\n",
        "\n",
        "# print(position)\n"
      ]
    },
    {
      "cell_type": "markdown",
      "metadata": {
        "id": "gCF1ymjb7mzq"
      },
      "source": [
        "原始版"
      ]
    },
    {
      "cell_type": "code",
      "execution_count": null,
      "metadata": {
        "id": "M5_zeW687YY6"
      },
      "outputs": [],
      "source": [
        "#print(normalization.index)\n",
        "def trade_period(k, position, pair_diff_normalization, name_index_array, pair_mean):\n",
        "  for i in range(k, k+120):\n",
        "    for j in range(0,len(name_index_array)):\n",
        "      num=len(name_index_array)\n",
        "      if(pair_mean[j] > 0):\n",
        "        stock1 = name_index_array[j][0]\n",
        "        stock2 = name_index_array[j][1]\n",
        "      else:\n",
        "        stock1 = name_index_array[j][1]\n",
        "        stock2 = name_index_array[j][0]\n",
        "      #print(type(position.loc[position.index[i],[stock1]]))\n",
        "      if(pair_diff_normalization.iloc[i,j]>=1 and pair_diff_normalization.iloc[i-2,j]<1):\n",
        "        # print(position.loc[position.index[i],[stock1]])\n",
        "        position.loc[position.index[i],[stock1]] = -1\n",
        "        print(\"sell \"+ stock1)\n",
        "        position.loc[position.index[i],[stock2]] = 1\n",
        "        print(\"buy \"+ stock2)\n",
        "        print(position.index[i])\n",
        "        #print(1)\n",
        "      elif(pair_diff_normalization.iloc[i,j]<=-1 and pair_diff_normalization.iloc[i-2,j]>-1):\n",
        "        # print(position.loc[position.index[i],[stock1]])\n",
        "        position.loc[position.index[i],[stock1]] = 1\n",
        "        print(\"buy \"+ stock1)\n",
        "        position.loc[position.index[i],[stock2]] = -1\n",
        "        print(\"sell \"+ stock2)\n",
        "        print(position.index[i])\n",
        "        #print(2)\n",
        "      elif(pair_diff_normalization.iloc[i,j]>=0 and pair_diff_normalization.iloc[i-2,j]<=0):\n",
        "        position.loc[position.index[i],[stock1]] = 0\n",
        "        #print(\"take \"+ stock1)\n",
        "        position.loc[position.index[i],[stock2]] = 0\n",
        "        #print(\"take \"+ stock2)\n",
        "        #print(position.index[i])\n",
        "        #print(0)\n",
        "      elif(pair_diff_normalization.iloc[i,j]<=0 and pair_diff_normalization.iloc[i-2,j]>=0):\n",
        "        position.loc[position.index[i],[stock1]] = 0\n",
        "        #print(\"take \"+ stock1)\n",
        "        position.loc[position.index[i],[stock2]] = 0\n",
        "        #print(\"take \"+ stock2)\n",
        "        #print(position.index[i])\n",
        "        #print(0)\n",
        "      elif(pair_diff_normalization.iloc[i,j]>=2 and pair_diff_normalization.iloc[i-2,j]<2):\n",
        "        # print(position.loc[position.index[i],[stock1]])\n",
        "        position.loc[position.index[i],[stock1]] = 0\n",
        "        #print(\"stop \"+ stock1)\n",
        "        position.loc[position.index[i],[stock2]] = 0\n",
        "        #print(\"stop \"+ stock2)\n",
        "        #print(position.index[i])\n",
        "        print(name_index_array)\n",
        "\n",
        "      elif(pair_diff_normalization.iloc[i,j]<=-2 and pair_diff_normalization.iloc[i-2,j]>-2):\n",
        "        # print(position.loc[position.index[i],[stock1]])\n",
        "        position.loc[position.index[i],[stock1]] = 0\n",
        "        #print(\"stop \"+ stock1)\n",
        "        position.loc[position.index[i],[stock2]] = 0\n",
        "        #print(\"stop \"+ stock2)\n",
        "        #print(position.index[i])\n",
        "        print(name_index_array)\n",
        "\n",
        "      else:\n",
        "        position.loc[position.index[i], [stock1]] = position.loc[position.index[i-1], [stock1]]\n",
        "        position.loc[position.index[i], [stock2]] = position.loc[position.index[i-1], [stock2]]\n",
        "      if(i==k+119):\n",
        "        position.loc[position.index[i],[stock1]] = 0\n",
        "        position.loc[position.index[i],[stock2]] = 0\n",
        "      if(j==len(name_index_array)-1):\n",
        "        break\n",
        "  return position\n",
        "\n",
        "# print(position)\n"
      ]
    },
    {
      "cell_type": "code",
      "execution_count": null,
      "metadata": {
        "colab": {
          "base_uri": "https://localhost:8080/",
          "height": 1000
        },
        "id": "PD167tnI4TCZ",
        "outputId": "7fca3eb5-7207-43d7-917f-ef22b1a36a5b"
      },
      "outputs": [
        {
          "name": "stdout",
          "output_type": "stream",
          "text": [
            "輸入成功!\n",
            "pair change\n"
          ]
        },
        {
          "name": "stderr",
          "output_type": "stream",
          "text": [
            "<ipython-input-14-29c255cf7d12>:26: DeprecationWarning: The truth value of an empty array is ambiguous. Returning False, but in future this will result in an error. Use `array.size > 0` to check that an array is not empty.\n",
            "  if not value:\n"
          ]
        },
        {
          "name": "stdout",
          "output_type": "stream",
          "text": [
            "sell 2408\n",
            "buy 2345\n",
            "2014-01-16 00:00:00\n",
            "sell 2408\n",
            "buy 2345\n",
            "2014-01-17 00:00:00\n",
            "sell 2441\n",
            "buy 3008\n",
            "2014-04-16 00:00:00\n",
            "sell 2441\n",
            "buy 3008\n",
            "2014-04-17 00:00:00\n",
            "sell 2441\n",
            "buy 3008\n",
            "2014-05-05 00:00:00\n",
            "sell 2441\n",
            "buy 3008\n",
            "2014-05-06 00:00:00\n",
            "sell 3532\n",
            "buy 2027\n",
            "2014-05-12 00:00:00\n",
            "sell 3532\n",
            "buy 2027\n",
            "2014-05-13 00:00:00\n",
            "sell 2408\n",
            "buy 2345\n",
            "2014-05-15 00:00:00\n",
            "sell 2441\n",
            "buy 3008\n",
            "2014-06-25 00:00:00\n",
            "sell 2441\n",
            "buy 3008\n",
            "2014-07-02 00:00:00\n",
            "pair change\n"
          ]
        },
        {
          "name": "stderr",
          "output_type": "stream",
          "text": [
            "<ipython-input-14-29c255cf7d12>:26: DeprecationWarning: The truth value of an empty array is ambiguous. Returning False, but in future this will result in an error. Use `array.size > 0` to check that an array is not empty.\n",
            "  if not value:\n"
          ]
        },
        {
          "name": "stdout",
          "output_type": "stream",
          "text": [
            "sell 3023\n",
            "buy 2379\n",
            "2014-08-11 00:00:00\n",
            "sell 3023\n",
            "buy 2379\n",
            "2014-08-12 00:00:00\n",
            "stop 3023\n",
            "stop 2379\n",
            "stop 6182\n",
            "stop 1904\n",
            "buy 2337\n",
            "sell 2615\n",
            "2014-10-06 00:00:00\n",
            "buy 2408\n",
            "sell 2330\n",
            "2014-10-20 00:00:00\n",
            "buy 2408\n",
            "sell 2330\n",
            "2014-10-21 00:00:00\n",
            "buy 2337\n",
            "sell 2615\n",
            "2014-10-22 00:00:00\n",
            "buy 2337\n",
            "sell 2615\n",
            "2014-10-23 00:00:00\n",
            "buy 2337\n",
            "sell 2615\n",
            "2014-11-05 00:00:00\n",
            "buy 2337\n",
            "sell 2615\n",
            "2014-11-11 00:00:00\n",
            "buy 2337\n",
            "sell 2615\n",
            "2014-11-14 00:00:00\n",
            "buy 2337\n",
            "sell 2615\n",
            "2014-11-17 00:00:00\n",
            "pair change\n"
          ]
        },
        {
          "name": "stderr",
          "output_type": "stream",
          "text": [
            "<ipython-input-14-29c255cf7d12>:26: DeprecationWarning: The truth value of an empty array is ambiguous. Returning False, but in future this will result in an error. Use `array.size > 0` to check that an array is not empty.\n",
            "  if not value:\n"
          ]
        },
        {
          "name": "stdout",
          "output_type": "stream",
          "text": [
            "buy 1229\n",
            "sell 2303\n",
            "2014-12-27 00:00:00\n",
            "buy 1229\n",
            "sell 2303\n",
            "2015-01-05 00:00:00\n",
            "sell 3227\n",
            "buy 4966\n",
            "2015-01-14 00:00:00\n",
            "sell 3227\n",
            "buy 4966\n",
            "2015-01-15 00:00:00\n",
            "buy 3005\n",
            "sell 3532\n",
            "2015-01-19 00:00:00\n",
            "sell 3227\n",
            "buy 4966\n",
            "2015-01-27 00:00:00\n",
            "sell 3227\n",
            "buy 4966\n",
            "2015-02-11 00:00:00\n",
            "sell 3227\n",
            "buy 4966\n",
            "2015-02-24 00:00:00\n",
            "stop 3227\n",
            "stop 4966\n",
            "stop 2371\n",
            "stop 4128\n",
            "buy 2379\n",
            "sell 5469\n",
            "2015-03-09 00:00:00\n",
            "stop 1808\n",
            "stop 6182\n",
            "buy 1229\n",
            "sell 2303\n",
            "2015-04-01 00:00:00\n",
            "buy 1229\n",
            "sell 2303\n",
            "2015-04-02 00:00:00\n",
            "pair change\n"
          ]
        },
        {
          "name": "stderr",
          "output_type": "stream",
          "text": [
            "<ipython-input-14-29c255cf7d12>:26: DeprecationWarning: The truth value of an empty array is ambiguous. Returning False, but in future this will result in an error. Use `array.size > 0` to check that an array is not empty.\n",
            "  if not value:\n"
          ]
        },
        {
          "name": "stdout",
          "output_type": "stream",
          "text": [
            "pair change\n"
          ]
        },
        {
          "name": "stderr",
          "output_type": "stream",
          "text": [
            "<ipython-input-14-29c255cf7d12>:26: DeprecationWarning: The truth value of an empty array is ambiguous. Returning False, but in future this will result in an error. Use `array.size > 0` to check that an array is not empty.\n",
            "  if not value:\n"
          ]
        },
        {
          "name": "stdout",
          "output_type": "stream",
          "text": [
            "buy 2031\n",
            "sell 2208\n",
            "2016-01-22 00:00:00\n",
            "sell 3443\n",
            "buy 3293\n",
            "2016-02-03 00:00:00\n",
            "sell 3443\n",
            "buy 3293\n",
            "2016-02-15 00:00:00\n",
            "sell 3443\n",
            "buy 3293\n",
            "2016-02-22 00:00:00\n",
            "sell 3443\n",
            "buy 3293\n",
            "2016-02-23 00:00:00\n",
            "sell 3443\n",
            "buy 3293\n",
            "2016-02-26 00:00:00\n",
            "sell 3443\n",
            "buy 3293\n",
            "2016-03-03 00:00:00\n",
            "sell 3443\n",
            "buy 3293\n",
            "2016-03-10 00:00:00\n",
            "sell 3443\n",
            "buy 3293\n",
            "2016-03-15 00:00:00\n",
            "sell 3443\n",
            "buy 3293\n",
            "2016-03-21 00:00:00\n",
            "buy 2031\n",
            "sell 2208\n",
            "2016-04-06 00:00:00\n",
            "buy 2031\n",
            "sell 2208\n",
            "2016-04-07 00:00:00\n",
            "pair change\n"
          ]
        },
        {
          "name": "stderr",
          "output_type": "stream",
          "text": [
            "<ipython-input-14-29c255cf7d12>:26: DeprecationWarning: The truth value of an empty array is ambiguous. Returning False, but in future this will result in an error. Use `array.size > 0` to check that an array is not empty.\n",
            "  if not value:\n"
          ]
        },
        {
          "name": "stdout",
          "output_type": "stream",
          "text": [
            "buy 3622\n",
            "sell 4933\n",
            "2016-06-22 00:00:00\n",
            "buy 3622\n",
            "sell 4933\n",
            "2016-06-23 00:00:00\n",
            "pair change\n"
          ]
        },
        {
          "name": "stderr",
          "output_type": "stream",
          "text": [
            "<ipython-input-14-29c255cf7d12>:26: DeprecationWarning: The truth value of an empty array is ambiguous. Returning False, but in future this will result in an error. Use `array.size > 0` to check that an array is not empty.\n",
            "  if not value:\n"
          ]
        },
        {
          "name": "stdout",
          "output_type": "stream",
          "text": [
            "pair change\n"
          ]
        },
        {
          "name": "stderr",
          "output_type": "stream",
          "text": [
            "<ipython-input-14-29c255cf7d12>:26: DeprecationWarning: The truth value of an empty array is ambiguous. Returning False, but in future this will result in an error. Use `array.size > 0` to check that an array is not empty.\n",
            "  if not value:\n"
          ]
        },
        {
          "name": "stdout",
          "output_type": "stream",
          "text": [
            "sell 6213\n",
            "buy 2345\n",
            "2017-06-13 00:00:00\n",
            "sell 6213\n",
            "buy 2345\n",
            "2017-06-19 00:00:00\n",
            "sell 3034\n",
            "buy 2303\n",
            "2017-06-30 00:00:00\n",
            "sell 6213\n",
            "buy 2345\n",
            "2017-07-04 00:00:00\n",
            "sell 3034\n",
            "buy 2303\n",
            "2017-07-11 00:00:00\n",
            "sell 3034\n",
            "buy 2303\n",
            "2017-07-12 00:00:00\n",
            "sell 4933\n",
            "buy 3673\n",
            "2017-08-04 00:00:00\n",
            "sell 2903\n",
            "buy 1722\n",
            "2017-08-07 00:00:00\n",
            "sell 4933\n",
            "buy 3673\n",
            "2017-08-07 00:00:00\n",
            "sell 2903\n",
            "buy 1722\n",
            "2017-08-08 00:00:00\n",
            "buy 5531\n",
            "sell 6120\n",
            "2017-08-25 00:00:00\n",
            "buy 5531\n",
            "sell 6120\n",
            "2017-08-28 00:00:00\n",
            "sell 4933\n",
            "buy 3673\n",
            "2017-10-06 00:00:00\n",
            "sell 4933\n",
            "buy 3673\n",
            "2017-10-13 00:00:00\n",
            "sell 2367\n",
            "buy 3037\n",
            "2017-11-29 00:00:00\n",
            "pair change\n"
          ]
        },
        {
          "name": "stderr",
          "output_type": "stream",
          "text": [
            "<ipython-input-14-29c255cf7d12>:26: DeprecationWarning: The truth value of an empty array is ambiguous. Returning False, but in future this will result in an error. Use `array.size > 0` to check that an array is not empty.\n",
            "  if not value:\n"
          ]
        },
        {
          "name": "stdout",
          "output_type": "stream",
          "text": [
            "buy 4168\n",
            "sell 1337\n",
            "2018-03-27 00:00:00\n",
            "buy 4168\n",
            "sell 1337\n",
            "2018-03-28 00:00:00\n",
            "sell 2903\n",
            "buy 2208\n",
            "2018-04-09 00:00:00\n",
            "buy 4168\n",
            "sell 1337\n",
            "2018-04-09 00:00:00\n",
            "sell 2903\n",
            "buy 2208\n",
            "2018-04-10 00:00:00\n",
            "sell 2903\n",
            "buy 2208\n",
            "2018-04-20 00:00:00\n",
            "pair change\n"
          ]
        },
        {
          "name": "stderr",
          "output_type": "stream",
          "text": [
            "<ipython-input-14-29c255cf7d12>:26: DeprecationWarning: The truth value of an empty array is ambiguous. Returning False, but in future this will result in an error. Use `array.size > 0` to check that an array is not empty.\n",
            "  if not value:\n"
          ]
        },
        {
          "name": "stdout",
          "output_type": "stream",
          "text": [
            "sell 4142\n",
            "buy 4128\n",
            "2018-06-01 00:00:00\n",
            "sell 4142\n",
            "buy 4128\n",
            "2018-06-04 00:00:00\n",
            "sell 4142\n",
            "buy 4128\n",
            "2018-06-14 00:00:00\n",
            "sell 2504\n",
            "buy 2108\n",
            "2018-07-17 00:00:00\n",
            "sell 2504\n",
            "buy 2108\n",
            "2018-07-18 00:00:00\n",
            "buy 2201\n",
            "sell 2913\n",
            "2018-08-06 00:00:00\n",
            "sell 2504\n",
            "buy 2108\n",
            "2018-08-08 00:00:00\n",
            "sell 2504\n",
            "buy 2108\n",
            "2018-08-09 00:00:00\n",
            "sell 2504\n",
            "buy 2108\n",
            "2018-10-01 00:00:00\n",
            "sell 2504\n",
            "buy 2108\n",
            "2018-10-02 00:00:00\n",
            "sell 2504\n",
            "buy 2108\n",
            "2018-10-08 00:00:00\n",
            "sell 2504\n",
            "buy 2108\n",
            "2018-10-12 00:00:00\n",
            "buy 2201\n",
            "sell 2913\n",
            "2018-10-19 00:00:00\n",
            "buy 2201\n",
            "sell 2913\n",
            "2018-10-22 00:00:00\n",
            "pair change\n"
          ]
        },
        {
          "name": "stderr",
          "output_type": "stream",
          "text": [
            "<ipython-input-14-29c255cf7d12>:26: DeprecationWarning: The truth value of an empty array is ambiguous. Returning False, but in future this will result in an error. Use `array.size > 0` to check that an array is not empty.\n",
            "  if not value:\n"
          ]
        },
        {
          "name": "stdout",
          "output_type": "stream",
          "text": [
            "buy 2106\n",
            "sell 3576\n",
            "2019-04-15 00:00:00\n",
            "buy 2106\n",
            "sell 3576\n",
            "2019-05-07 00:00:00\n",
            "buy 2106\n",
            "sell 3576\n",
            "2019-05-08 00:00:00\n",
            "pair change\n"
          ]
        },
        {
          "name": "stderr",
          "output_type": "stream",
          "text": [
            "<ipython-input-14-29c255cf7d12>:26: DeprecationWarning: The truth value of an empty array is ambiguous. Returning False, but in future this will result in an error. Use `array.size > 0` to check that an array is not empty.\n",
            "  if not value:\n"
          ]
        },
        {
          "name": "stdout",
          "output_type": "stream",
          "text": [
            "buy 2106\n",
            "sell 2603\n",
            "2019-07-01 00:00:00\n",
            "buy 2106\n",
            "sell 2603\n",
            "2019-07-02 00:00:00\n",
            "sell 4168\n",
            "buy 2504\n",
            "2019-10-16 00:00:00\n",
            "sell 4168\n",
            "buy 2504\n",
            "2019-10-17 00:00:00\n",
            "pair change\n"
          ]
        },
        {
          "name": "stderr",
          "output_type": "stream",
          "text": [
            "<ipython-input-14-29c255cf7d12>:26: DeprecationWarning: The truth value of an empty array is ambiguous. Returning False, but in future this will result in an error. Use `array.size > 0` to check that an array is not empty.\n",
            "  if not value:\n"
          ]
        },
        {
          "name": "stdout",
          "output_type": "stream",
          "text": [
            "buy 4141\n",
            "sell 8011\n",
            "2019-11-26 00:00:00\n",
            "buy 4141\n",
            "sell 8011\n",
            "2019-12-10 00:00:00\n",
            "buy 4141\n",
            "sell 8011\n",
            "2019-12-11 00:00:00\n",
            "sell 8076\n",
            "buy 1513\n",
            "2020-01-16 00:00:00\n",
            "sell 8076\n",
            "buy 1513\n",
            "2020-01-17 00:00:00\n",
            "buy 4141\n",
            "sell 8011\n",
            "2020-02-19 00:00:00\n",
            "sell 3691\n",
            "buy 2406\n",
            "2020-03-06 00:00:00\n",
            "buy 1789\n",
            "sell 1337\n",
            "2020-03-09 00:00:00\n",
            "sell 8076\n",
            "buy 1513\n",
            "2020-04-27 00:00:00\n",
            "sell 8076\n",
            "buy 1513\n",
            "2020-04-30 00:00:00\n",
            "buy 4141\n",
            "sell 8011\n",
            "2020-04-30 00:00:00\n",
            "buy 4141\n",
            "sell 8011\n",
            "2020-05-04 00:00:00\n",
            "sell 8076\n",
            "buy 1513\n",
            "2020-05-08 00:00:00\n"
          ]
        },
        {
          "data": {
            "text/html": [
              "\n",
              "        <iframe\n",
              "            width=\"100%\"\n",
              "            height=\"600\"\n",
              "            src=\"https://ai.finlab.tw/strategy/?uid=yZjQJduslWYhlAVHAEp2KlGXPVI2&sid=未命名\"\n",
              "            frameborder=\"0\"\n",
              "            allowfullscreen\n",
              "            \n",
              "        ></iframe>\n",
              "        "
            ],
            "text/plain": [
              "<IPython.lib.display.IFrame at 0x7f692fb411b0>"
            ]
          },
          "metadata": {},
          "output_type": "display_data"
        }
      ],
      "source": [
        "finlab.login('3+h4Fdg16bd02h9+vlzJ0UN9ivzo7Q5Hl5xUXOYMTNEuZW/x5ooa3eLr+6wz/kNk#free')\n",
        "position = 收盤價-收盤價\n",
        "position = position.fillna(0)\n",
        "for k in range(246, 246*7, 120):\n",
        "  print(\"pair change\")\n",
        "  stock_list = filter(0)\n",
        "  normalization, stock_name = normalize_data(stock_list)\n",
        "  all_dist = euclidean_dist(k, normalization)\n",
        "  new_index_array, name_index_array = smallest(all_dist, stock_name)\n",
        "  pair_diff_normalization, pair_mean = get_pair(new_index_array, name_index_array, normalization)\n",
        "  position = trade_period(k, position, pair_diff_normalization, name_index_array, pair_mean)\n",
        "report = sim(position, resample=None)"
      ]
    },
    {
      "cell_type": "markdown",
      "metadata": {
        "id": "wVxagYVs4WWB"
      },
      "source": [
        "市值後400"
      ]
    },
    {
      "cell_type": "code",
      "execution_count": null,
      "metadata": {
        "colab": {
          "base_uri": "https://localhost:8080/",
          "height": 1000
        },
        "id": "yukeRfit02tA",
        "outputId": "d4b692b1-8d68-4f24-c5cd-9d471699a38d"
      },
      "outputs": [
        {
          "name": "stdout",
          "output_type": "stream",
          "text": [
            "輸入成功!\n",
            "pair change\n"
          ]
        },
        {
          "name": "stderr",
          "output_type": "stream",
          "text": [
            "<ipython-input-8-2144d940ef7d>:26: DeprecationWarning: The truth value of an empty array is ambiguous. Returning False, but in future this will result in an error. Use `array.size > 0` to check that an array is not empty.\n",
            "  if not value:\n"
          ]
        },
        {
          "name": "stdout",
          "output_type": "stream",
          "text": [
            "sell 6274\n",
            "buy 5457\n",
            "2014-06-03 00:00:00\n",
            "sell 6274\n",
            "buy 5457\n",
            "2014-06-04 00:00:00\n",
            "sell 6173\n",
            "buy 2478\n",
            "2014-06-06 00:00:00\n",
            "sell 6274\n",
            "buy 5457\n",
            "2014-06-09 00:00:00\n",
            "sell 6274\n",
            "buy 5457\n",
            "2014-06-10 00:00:00\n",
            "buy 3529\n",
            "sell 2368\n",
            "2014-06-25 00:00:00\n",
            "buy 3529\n",
            "sell 2368\n",
            "2014-06-26 00:00:00\n",
            "pair change\n"
          ]
        },
        {
          "name": "stderr",
          "output_type": "stream",
          "text": [
            "<ipython-input-8-2144d940ef7d>:26: DeprecationWarning: The truth value of an empty array is ambiguous. Returning False, but in future this will result in an error. Use `array.size > 0` to check that an array is not empty.\n",
            "  if not value:\n"
          ]
        },
        {
          "name": "stdout",
          "output_type": "stream",
          "text": [
            "sell 6274\n",
            "buy 3669\n",
            "2014-07-22 00:00:00\n",
            "sell 6274\n",
            "buy 3669\n",
            "2014-07-24 00:00:00\n",
            "sell 3324\n",
            "buy 2387\n",
            "2014-08-01 00:00:00\n",
            "sell 3324\n",
            "buy 2387\n",
            "2014-08-04 00:00:00\n",
            "sell 2478\n",
            "buy 2368\n",
            "2014-12-01 00:00:00\n",
            "sell 2478\n",
            "buy 2368\n",
            "2014-12-02 00:00:00\n",
            "pair change\n"
          ]
        },
        {
          "name": "stderr",
          "output_type": "stream",
          "text": [
            "<ipython-input-8-2144d940ef7d>:26: DeprecationWarning: The truth value of an empty array is ambiguous. Returning False, but in future this will result in an error. Use `array.size > 0` to check that an array is not empty.\n",
            "  if not value:\n"
          ]
        },
        {
          "name": "stdout",
          "output_type": "stream",
          "text": [
            "sell 4205\n",
            "buy 2417\n",
            "2015-02-10 00:00:00\n",
            "sell 4205\n",
            "buy 2417\n",
            "2015-02-11 00:00:00\n",
            "pair change\n"
          ]
        },
        {
          "name": "stderr",
          "output_type": "stream",
          "text": [
            "<ipython-input-8-2144d940ef7d>:26: DeprecationWarning: The truth value of an empty array is ambiguous. Returning False, but in future this will result in an error. Use `array.size > 0` to check that an array is not empty.\n",
            "  if not value:\n"
          ]
        },
        {
          "name": "stdout",
          "output_type": "stream",
          "text": [
            "pair change\n"
          ]
        },
        {
          "name": "stderr",
          "output_type": "stream",
          "text": [
            "<ipython-input-8-2144d940ef7d>:26: DeprecationWarning: The truth value of an empty array is ambiguous. Returning False, but in future this will result in an error. Use `array.size > 0` to check that an array is not empty.\n",
            "  if not value:\n"
          ]
        },
        {
          "name": "stdout",
          "output_type": "stream",
          "text": [
            "buy 3563\n",
            "sell 6173\n",
            "2016-03-11 00:00:00\n",
            "buy 3563\n",
            "sell 6173\n",
            "2016-03-14 00:00:00\n",
            "buy 3563\n",
            "sell 6173\n",
            "2016-05-10 00:00:00\n",
            "buy 3563\n",
            "sell 6173\n",
            "2016-05-23 00:00:00\n",
            "buy 3563\n",
            "sell 6173\n",
            "2016-05-24 00:00:00\n",
            "buy 3563\n",
            "sell 6173\n",
            "2016-06-15 00:00:00\n",
            "pair change\n"
          ]
        },
        {
          "name": "stderr",
          "output_type": "stream",
          "text": [
            "<ipython-input-8-2144d940ef7d>:26: DeprecationWarning: The truth value of an empty array is ambiguous. Returning False, but in future this will result in an error. Use `array.size > 0` to check that an array is not empty.\n",
            "  if not value:\n"
          ]
        },
        {
          "name": "stdout",
          "output_type": "stream",
          "text": [
            "pair change\n"
          ]
        },
        {
          "name": "stderr",
          "output_type": "stream",
          "text": [
            "<ipython-input-8-2144d940ef7d>:26: DeprecationWarning: The truth value of an empty array is ambiguous. Returning False, but in future this will result in an error. Use `array.size > 0` to check that an array is not empty.\n",
            "  if not value:\n"
          ]
        },
        {
          "name": "stdout",
          "output_type": "stream",
          "text": [
            "buy 2323\n",
            "sell 6196\n",
            "2017-04-26 00:00:00\n",
            "buy 2323\n",
            "sell 6196\n",
            "2017-04-27 00:00:00\n",
            "buy 2323\n",
            "sell 6196\n",
            "2017-06-09 00:00:00\n",
            "buy 2323\n",
            "sell 6196\n",
            "2017-06-12 00:00:00\n",
            "pair change\n"
          ]
        },
        {
          "name": "stderr",
          "output_type": "stream",
          "text": [
            "<ipython-input-8-2144d940ef7d>:26: DeprecationWarning: The truth value of an empty array is ambiguous. Returning False, but in future this will result in an error. Use `array.size > 0` to check that an array is not empty.\n",
            "  if not value:\n"
          ]
        },
        {
          "name": "stdout",
          "output_type": "stream",
          "text": [
            "buy 3090\n",
            "sell 6173\n",
            "2017-08-17 00:00:00\n",
            "buy 3090\n",
            "sell 6173\n",
            "2017-08-18 00:00:00\n",
            "stop 3090\n",
            "stop 6173\n",
            "stop 1315\n",
            "stop 3669\n",
            "buy 2323\n",
            "sell 3311\n",
            "2017-11-20 00:00:00\n",
            "buy 2323\n",
            "sell 3311\n",
            "2017-11-21 00:00:00\n",
            "pair change\n"
          ]
        },
        {
          "name": "stderr",
          "output_type": "stream",
          "text": [
            "<ipython-input-8-2144d940ef7d>:26: DeprecationWarning: The truth value of an empty array is ambiguous. Returning False, but in future this will result in an error. Use `array.size > 0` to check that an array is not empty.\n",
            "  if not value:\n"
          ]
        },
        {
          "name": "stdout",
          "output_type": "stream",
          "text": [
            "buy 2425\n",
            "sell 2390\n",
            "2018-02-27 00:00:00\n",
            "buy 2425\n",
            "sell 2390\n",
            "2018-03-01 00:00:00\n",
            "sell 6125\n",
            "buy 3624\n",
            "2018-03-05 00:00:00\n",
            "sell 6125\n",
            "buy 3624\n",
            "2018-03-06 00:00:00\n",
            "buy 2425\n",
            "sell 2390\n",
            "2018-03-20 00:00:00\n",
            "buy 2425\n",
            "sell 2390\n",
            "2018-03-21 00:00:00\n",
            "sell 6125\n",
            "buy 3624\n",
            "2018-03-21 00:00:00\n",
            "sell 6125\n",
            "buy 3624\n",
            "2018-03-22 00:00:00\n",
            "sell 6125\n",
            "buy 3624\n",
            "2018-03-27 00:00:00\n",
            "sell 6125\n",
            "buy 3624\n",
            "2018-03-28 00:00:00\n",
            "sell 1514\n",
            "buy 5609\n",
            "2018-04-02 00:00:00\n",
            "sell 1514\n",
            "buy 5609\n",
            "2018-04-03 00:00:00\n",
            "stop 1514\n",
            "stop 5609\n",
            "stop 2611\n",
            "stop 2705\n",
            "sell 6125\n",
            "buy 3624\n",
            "2018-04-16 00:00:00\n",
            "stop 1414\n",
            "stop 3090\n",
            "sell 6125\n",
            "buy 3624\n",
            "2018-04-17 00:00:00\n",
            "sell 6125\n",
            "buy 3624\n",
            "2018-05-10 00:00:00\n",
            "sell 6125\n",
            "buy 3624\n",
            "2018-05-11 00:00:00\n",
            "buy 2425\n",
            "sell 2390\n",
            "2018-05-22 00:00:00\n",
            "buy 2425\n",
            "sell 2390\n",
            "2018-05-23 00:00:00\n",
            "stop 6125\n",
            "stop 3624\n",
            "stop 5225\n",
            "stop 1734\n",
            "pair change\n"
          ]
        },
        {
          "name": "stderr",
          "output_type": "stream",
          "text": [
            "<ipython-input-8-2144d940ef7d>:26: DeprecationWarning: The truth value of an empty array is ambiguous. Returning False, but in future this will result in an error. Use `array.size > 0` to check that an array is not empty.\n",
            "  if not value:\n"
          ]
        },
        {
          "name": "stdout",
          "output_type": "stream",
          "text": [
            "sell 8054\n",
            "buy 5355\n",
            "2018-06-25 00:00:00\n",
            "sell 8054\n",
            "buy 5355\n",
            "2018-06-29 00:00:00\n",
            "sell 8054\n",
            "buy 5355\n",
            "2018-07-02 00:00:00\n",
            "sell 8054\n",
            "buy 5355\n",
            "2018-07-27 00:00:00\n",
            "sell 8054\n",
            "buy 5355\n",
            "2018-07-30 00:00:00\n",
            "sell 4942\n",
            "buy 6152\n",
            "2018-11-12 00:00:00\n",
            "sell 4942\n",
            "buy 6152\n",
            "2018-11-13 00:00:00\n",
            "pair change\n"
          ]
        },
        {
          "name": "stderr",
          "output_type": "stream",
          "text": [
            "<ipython-input-8-2144d940ef7d>:26: DeprecationWarning: The truth value of an empty array is ambiguous. Returning False, but in future this will result in an error. Use `array.size > 0` to check that an array is not empty.\n",
            "  if not value:\n"
          ]
        },
        {
          "name": "stdout",
          "output_type": "stream",
          "text": [
            "sell 4523\n",
            "buy 3704\n",
            "2019-01-09 00:00:00\n",
            "sell 4523\n",
            "buy 3704\n",
            "2019-01-10 00:00:00\n",
            "sell 4523\n",
            "buy 3704\n",
            "2019-04-01 00:00:00\n",
            "sell 4523\n",
            "buy 3704\n",
            "2019-04-12 00:00:00\n",
            "sell 4523\n",
            "buy 3704\n",
            "2019-04-15 00:00:00\n",
            "stop 4523\n",
            "stop 3704\n",
            "pair change\n"
          ]
        },
        {
          "name": "stderr",
          "output_type": "stream",
          "text": [
            "<ipython-input-8-2144d940ef7d>:26: DeprecationWarning: The truth value of an empty array is ambiguous. Returning False, but in future this will result in an error. Use `array.size > 0` to check that an array is not empty.\n",
            "  if not value:\n"
          ]
        },
        {
          "name": "stdout",
          "output_type": "stream",
          "text": [
            "sell 3373\n",
            "buy 3218\n",
            "2019-09-02 00:00:00\n",
            "sell 3373\n",
            "buy 3218\n",
            "2019-09-03 00:00:00\n",
            "sell 3373\n",
            "buy 3218\n",
            "2019-09-11 00:00:00\n",
            "sell 3373\n",
            "buy 3218\n",
            "2019-09-17 00:00:00\n",
            "sell 3373\n",
            "buy 3218\n",
            "2019-09-24 00:00:00\n",
            "sell 3373\n",
            "buy 3218\n",
            "2019-09-25 00:00:00\n",
            "sell 3687\n",
            "buy 4702\n",
            "2019-09-26 00:00:00\n",
            "sell 3687\n",
            "buy 4702\n",
            "2019-09-27 00:00:00\n",
            "sell 3373\n",
            "buy 3218\n",
            "2019-10-02 00:00:00\n",
            "sell 3373\n",
            "buy 3218\n",
            "2019-10-03 00:00:00\n",
            "sell 3373\n",
            "buy 3218\n",
            "2019-10-08 00:00:00\n",
            "sell 3373\n",
            "buy 3218\n",
            "2019-10-17 00:00:00\n",
            "sell 3680\n",
            "buy 5529\n",
            "2019-10-21 00:00:00\n",
            "sell 3680\n",
            "buy 5529\n",
            "2019-10-22 00:00:00\n",
            "buy 1734\n",
            "sell 6185\n",
            "2019-11-18 00:00:00\n",
            "pair change\n"
          ]
        },
        {
          "name": "stderr",
          "output_type": "stream",
          "text": [
            "<ipython-input-8-2144d940ef7d>:26: DeprecationWarning: The truth value of an empty array is ambiguous. Returning False, but in future this will result in an error. Use `array.size > 0` to check that an array is not empty.\n",
            "  if not value:\n"
          ]
        },
        {
          "name": "stdout",
          "output_type": "stream",
          "text": [
            "buy 4133\n",
            "sell 3669\n",
            "2020-05-18 00:00:00\n",
            "buy 4106\n",
            "sell 3058\n",
            "2020-05-18 00:00:00\n",
            "buy 4133\n",
            "sell 3669\n",
            "2020-05-19 00:00:00\n",
            "buy 4106\n",
            "sell 3058\n",
            "2020-05-19 00:00:00\n",
            "sell 5355\n",
            "buy 1309\n",
            "2020-05-20 00:00:00\n"
          ]
        },
        {
          "data": {
            "text/html": [
              "\n",
              "        <iframe\n",
              "            width=\"100%\"\n",
              "            height=\"600\"\n",
              "            src=\"https://ai.finlab.tw/strategy/?uid=yZjQJduslWYhlAVHAEp2KlGXPVI2&sid=未命名\"\n",
              "            frameborder=\"0\"\n",
              "            allowfullscreen\n",
              "            \n",
              "        ></iframe>\n",
              "        "
            ],
            "text/plain": [
              "<IPython.lib.display.IFrame at 0x7f692f8b8910>"
            ]
          },
          "metadata": {},
          "output_type": "display_data"
        }
      ],
      "source": [
        "finlab.login('3+h4Fdg16bd02h9+vlzJ0UN9ivzo7Q5Hl5xUXOYMTNEuZW/x5ooa3eLr+6wz/kNk#free')\n",
        "position = 收盤價-收盤價\n",
        "position = position.fillna(0)\n",
        "for k in range(246, 246*7, 120):\n",
        "  print(\"pair change\")\n",
        "  stock_list = filter(0)\n",
        "  normalization, stock_name = normalize_data(stock_list)\n",
        "  all_dist = euclidean_dist(k, normalization)\n",
        "  new_index_array, name_index_array = smallest(all_dist, stock_name)\n",
        "  pair_diff_normalization, pair_mean = get_pair(new_index_array, name_index_array, normalization)\n",
        "  position = trade_period(k, position, pair_diff_normalization, name_index_array, pair_mean)\n",
        "report = sim(position, resample=None)"
      ]
    },
    {
      "cell_type": "markdown",
      "metadata": {
        "id": "kDFQ5pYs4amX"
      },
      "source": [
        "市值前400"
      ]
    },
    {
      "cell_type": "code",
      "execution_count": null,
      "metadata": {
        "colab": {
          "base_uri": "https://localhost:8080/",
          "height": 1000
        },
        "id": "ivszKZwTydFX",
        "outputId": "d4dbf349-3dcf-4894-ef65-a9c152b66e34"
      },
      "outputs": [
        {
          "name": "stdout",
          "output_type": "stream",
          "text": [
            "輸入成功!\n",
            "pair change\n"
          ]
        },
        {
          "name": "stderr",
          "output_type": "stream",
          "text": [
            "<ipython-input-2-29c255cf7d12>:26: DeprecationWarning: The truth value of an empty array is ambiguous. Returning False, but in future this will result in an error. Use `array.size > 0` to check that an array is not empty.\n",
            "  if not value:\n"
          ]
        },
        {
          "name": "stdout",
          "output_type": "stream",
          "text": [
            "sell 2408\n",
            "buy 2345\n",
            "2014-01-16 00:00:00\n",
            "sell 2408\n",
            "buy 2345\n",
            "2014-01-17 00:00:00\n",
            "sell 2441\n",
            "buy 3008\n",
            "2014-04-16 00:00:00\n",
            "sell 2441\n",
            "buy 3008\n",
            "2014-04-17 00:00:00\n",
            "sell 2441\n",
            "buy 3008\n",
            "2014-05-05 00:00:00\n",
            "sell 2441\n",
            "buy 3008\n",
            "2014-05-06 00:00:00\n",
            "sell 3532\n",
            "buy 2027\n",
            "2014-05-12 00:00:00\n",
            "sell 3532\n",
            "buy 2027\n",
            "2014-05-13 00:00:00\n",
            "sell 2408\n",
            "buy 2345\n",
            "2014-05-15 00:00:00\n",
            "sell 2441\n",
            "buy 3008\n",
            "2014-06-25 00:00:00\n",
            "sell 2441\n",
            "buy 3008\n",
            "2014-07-02 00:00:00\n",
            "pair change\n"
          ]
        },
        {
          "name": "stderr",
          "output_type": "stream",
          "text": [
            "<ipython-input-2-29c255cf7d12>:26: DeprecationWarning: The truth value of an empty array is ambiguous. Returning False, but in future this will result in an error. Use `array.size > 0` to check that an array is not empty.\n",
            "  if not value:\n"
          ]
        },
        {
          "name": "stdout",
          "output_type": "stream",
          "text": [
            "sell 3023\n",
            "buy 2379\n",
            "2014-08-11 00:00:00\n",
            "sell 3023\n",
            "buy 2379\n",
            "2014-08-12 00:00:00\n",
            "stop 3023\n",
            "stop 2379\n",
            "stop 6182\n",
            "stop 1904\n",
            "buy 2337\n",
            "sell 2615\n",
            "2014-10-06 00:00:00\n",
            "buy 2408\n",
            "sell 2330\n",
            "2014-10-20 00:00:00\n",
            "buy 2408\n",
            "sell 2330\n",
            "2014-10-21 00:00:00\n",
            "buy 2337\n",
            "sell 2615\n",
            "2014-10-22 00:00:00\n",
            "buy 2337\n",
            "sell 2615\n",
            "2014-10-23 00:00:00\n",
            "buy 2337\n",
            "sell 2615\n",
            "2014-11-05 00:00:00\n",
            "buy 2337\n",
            "sell 2615\n",
            "2014-11-11 00:00:00\n",
            "buy 2337\n",
            "sell 2615\n",
            "2014-11-14 00:00:00\n",
            "buy 2337\n",
            "sell 2615\n",
            "2014-11-17 00:00:00\n",
            "pair change\n"
          ]
        },
        {
          "name": "stderr",
          "output_type": "stream",
          "text": [
            "<ipython-input-2-29c255cf7d12>:26: DeprecationWarning: The truth value of an empty array is ambiguous. Returning False, but in future this will result in an error. Use `array.size > 0` to check that an array is not empty.\n",
            "  if not value:\n"
          ]
        },
        {
          "name": "stdout",
          "output_type": "stream",
          "text": [
            "buy 1229\n",
            "sell 2303\n",
            "2014-12-27 00:00:00\n",
            "buy 1229\n",
            "sell 2303\n",
            "2015-01-05 00:00:00\n",
            "sell 3227\n",
            "buy 4966\n",
            "2015-01-14 00:00:00\n",
            "sell 3227\n",
            "buy 4966\n",
            "2015-01-15 00:00:00\n",
            "buy 3005\n",
            "sell 3532\n",
            "2015-01-19 00:00:00\n",
            "sell 3227\n",
            "buy 4966\n",
            "2015-01-27 00:00:00\n",
            "sell 3227\n",
            "buy 4966\n",
            "2015-02-11 00:00:00\n",
            "sell 3227\n",
            "buy 4966\n",
            "2015-02-24 00:00:00\n",
            "stop 3227\n",
            "stop 4966\n",
            "stop 2371\n",
            "stop 4128\n",
            "buy 2379\n",
            "sell 5469\n",
            "2015-03-09 00:00:00\n",
            "stop 1808\n",
            "stop 6182\n",
            "buy 1229\n",
            "sell 2303\n",
            "2015-04-01 00:00:00\n",
            "buy 1229\n",
            "sell 2303\n",
            "2015-04-02 00:00:00\n",
            "pair change\n"
          ]
        },
        {
          "name": "stderr",
          "output_type": "stream",
          "text": [
            "<ipython-input-2-29c255cf7d12>:26: DeprecationWarning: The truth value of an empty array is ambiguous. Returning False, but in future this will result in an error. Use `array.size > 0` to check that an array is not empty.\n",
            "  if not value:\n"
          ]
        },
        {
          "name": "stdout",
          "output_type": "stream",
          "text": [
            "pair change\n"
          ]
        },
        {
          "name": "stderr",
          "output_type": "stream",
          "text": [
            "<ipython-input-2-29c255cf7d12>:26: DeprecationWarning: The truth value of an empty array is ambiguous. Returning False, but in future this will result in an error. Use `array.size > 0` to check that an array is not empty.\n",
            "  if not value:\n"
          ]
        },
        {
          "name": "stdout",
          "output_type": "stream",
          "text": [
            "buy 2031\n",
            "sell 2208\n",
            "2016-01-22 00:00:00\n",
            "sell 3443\n",
            "buy 3293\n",
            "2016-02-03 00:00:00\n",
            "sell 3443\n",
            "buy 3293\n",
            "2016-02-15 00:00:00\n",
            "sell 3443\n",
            "buy 3293\n",
            "2016-02-22 00:00:00\n",
            "sell 3443\n",
            "buy 3293\n",
            "2016-02-23 00:00:00\n",
            "sell 3443\n",
            "buy 3293\n",
            "2016-02-26 00:00:00\n",
            "sell 3443\n",
            "buy 3293\n",
            "2016-03-03 00:00:00\n",
            "sell 3443\n",
            "buy 3293\n",
            "2016-03-10 00:00:00\n",
            "sell 3443\n",
            "buy 3293\n",
            "2016-03-15 00:00:00\n",
            "sell 3443\n",
            "buy 3293\n",
            "2016-03-21 00:00:00\n",
            "buy 2031\n",
            "sell 2208\n",
            "2016-04-06 00:00:00\n",
            "buy 2031\n",
            "sell 2208\n",
            "2016-04-07 00:00:00\n",
            "pair change\n"
          ]
        },
        {
          "name": "stderr",
          "output_type": "stream",
          "text": [
            "<ipython-input-2-29c255cf7d12>:26: DeprecationWarning: The truth value of an empty array is ambiguous. Returning False, but in future this will result in an error. Use `array.size > 0` to check that an array is not empty.\n",
            "  if not value:\n"
          ]
        },
        {
          "name": "stdout",
          "output_type": "stream",
          "text": [
            "buy 3622\n",
            "sell 4933\n",
            "2016-06-22 00:00:00\n",
            "buy 3622\n",
            "sell 4933\n",
            "2016-06-23 00:00:00\n",
            "pair change\n"
          ]
        },
        {
          "name": "stderr",
          "output_type": "stream",
          "text": [
            "<ipython-input-2-29c255cf7d12>:26: DeprecationWarning: The truth value of an empty array is ambiguous. Returning False, but in future this will result in an error. Use `array.size > 0` to check that an array is not empty.\n",
            "  if not value:\n"
          ]
        },
        {
          "name": "stdout",
          "output_type": "stream",
          "text": [
            "pair change\n"
          ]
        },
        {
          "name": "stderr",
          "output_type": "stream",
          "text": [
            "<ipython-input-2-29c255cf7d12>:26: DeprecationWarning: The truth value of an empty array is ambiguous. Returning False, but in future this will result in an error. Use `array.size > 0` to check that an array is not empty.\n",
            "  if not value:\n"
          ]
        },
        {
          "name": "stdout",
          "output_type": "stream",
          "text": [
            "sell 6213\n",
            "buy 2345\n",
            "2017-06-13 00:00:00\n",
            "sell 6213\n",
            "buy 2345\n",
            "2017-06-19 00:00:00\n",
            "sell 3034\n",
            "buy 2303\n",
            "2017-06-30 00:00:00\n",
            "sell 6213\n",
            "buy 2345\n",
            "2017-07-04 00:00:00\n",
            "sell 3034\n",
            "buy 2303\n",
            "2017-07-11 00:00:00\n",
            "sell 3034\n",
            "buy 2303\n",
            "2017-07-12 00:00:00\n",
            "sell 4933\n",
            "buy 3673\n",
            "2017-08-04 00:00:00\n",
            "sell 2903\n",
            "buy 1722\n",
            "2017-08-07 00:00:00\n",
            "sell 4933\n",
            "buy 3673\n",
            "2017-08-07 00:00:00\n",
            "sell 2903\n",
            "buy 1722\n",
            "2017-08-08 00:00:00\n",
            "buy 5531\n",
            "sell 6120\n",
            "2017-08-25 00:00:00\n",
            "buy 5531\n",
            "sell 6120\n",
            "2017-08-28 00:00:00\n",
            "sell 4933\n",
            "buy 3673\n",
            "2017-10-06 00:00:00\n",
            "sell 4933\n",
            "buy 3673\n",
            "2017-10-13 00:00:00\n",
            "sell 2367\n",
            "buy 3037\n",
            "2017-11-29 00:00:00\n",
            "pair change\n"
          ]
        },
        {
          "name": "stderr",
          "output_type": "stream",
          "text": [
            "<ipython-input-2-29c255cf7d12>:26: DeprecationWarning: The truth value of an empty array is ambiguous. Returning False, but in future this will result in an error. Use `array.size > 0` to check that an array is not empty.\n",
            "  if not value:\n"
          ]
        },
        {
          "name": "stdout",
          "output_type": "stream",
          "text": [
            "buy 4168\n",
            "sell 1337\n",
            "2018-03-27 00:00:00\n",
            "buy 4168\n",
            "sell 1337\n",
            "2018-03-28 00:00:00\n",
            "sell 2903\n",
            "buy 2208\n",
            "2018-04-09 00:00:00\n",
            "buy 4168\n",
            "sell 1337\n",
            "2018-04-09 00:00:00\n",
            "sell 2903\n",
            "buy 2208\n",
            "2018-04-10 00:00:00\n",
            "sell 2903\n",
            "buy 2208\n",
            "2018-04-20 00:00:00\n",
            "pair change\n"
          ]
        },
        {
          "name": "stderr",
          "output_type": "stream",
          "text": [
            "<ipython-input-2-29c255cf7d12>:26: DeprecationWarning: The truth value of an empty array is ambiguous. Returning False, but in future this will result in an error. Use `array.size > 0` to check that an array is not empty.\n",
            "  if not value:\n"
          ]
        },
        {
          "name": "stdout",
          "output_type": "stream",
          "text": [
            "sell 4142\n",
            "buy 4128\n",
            "2018-06-01 00:00:00\n",
            "sell 4142\n",
            "buy 4128\n",
            "2018-06-04 00:00:00\n",
            "sell 4142\n",
            "buy 4128\n",
            "2018-06-14 00:00:00\n",
            "sell 2504\n",
            "buy 2108\n",
            "2018-07-17 00:00:00\n",
            "sell 2504\n",
            "buy 2108\n",
            "2018-07-18 00:00:00\n",
            "buy 2201\n",
            "sell 2913\n",
            "2018-08-06 00:00:00\n",
            "sell 2504\n",
            "buy 2108\n",
            "2018-08-08 00:00:00\n",
            "sell 2504\n",
            "buy 2108\n",
            "2018-08-09 00:00:00\n",
            "sell 2504\n",
            "buy 2108\n",
            "2018-10-01 00:00:00\n",
            "sell 2504\n",
            "buy 2108\n",
            "2018-10-02 00:00:00\n",
            "sell 2504\n",
            "buy 2108\n",
            "2018-10-08 00:00:00\n",
            "sell 2504\n",
            "buy 2108\n",
            "2018-10-12 00:00:00\n",
            "buy 2201\n",
            "sell 2913\n",
            "2018-10-19 00:00:00\n",
            "buy 2201\n",
            "sell 2913\n",
            "2018-10-22 00:00:00\n",
            "pair change\n"
          ]
        },
        {
          "name": "stderr",
          "output_type": "stream",
          "text": [
            "<ipython-input-2-29c255cf7d12>:26: DeprecationWarning: The truth value of an empty array is ambiguous. Returning False, but in future this will result in an error. Use `array.size > 0` to check that an array is not empty.\n",
            "  if not value:\n"
          ]
        },
        {
          "name": "stdout",
          "output_type": "stream",
          "text": [
            "buy 2106\n",
            "sell 3576\n",
            "2019-04-15 00:00:00\n",
            "buy 2106\n",
            "sell 3576\n",
            "2019-05-07 00:00:00\n",
            "buy 2106\n",
            "sell 3576\n",
            "2019-05-08 00:00:00\n",
            "pair change\n"
          ]
        },
        {
          "name": "stderr",
          "output_type": "stream",
          "text": [
            "<ipython-input-2-29c255cf7d12>:26: DeprecationWarning: The truth value of an empty array is ambiguous. Returning False, but in future this will result in an error. Use `array.size > 0` to check that an array is not empty.\n",
            "  if not value:\n"
          ]
        },
        {
          "name": "stdout",
          "output_type": "stream",
          "text": [
            "buy 2106\n",
            "sell 2603\n",
            "2019-07-01 00:00:00\n",
            "buy 2106\n",
            "sell 2603\n",
            "2019-07-02 00:00:00\n",
            "sell 4168\n",
            "buy 2504\n",
            "2019-10-16 00:00:00\n",
            "sell 4168\n",
            "buy 2504\n",
            "2019-10-17 00:00:00\n",
            "pair change\n"
          ]
        },
        {
          "name": "stderr",
          "output_type": "stream",
          "text": [
            "<ipython-input-2-29c255cf7d12>:26: DeprecationWarning: The truth value of an empty array is ambiguous. Returning False, but in future this will result in an error. Use `array.size > 0` to check that an array is not empty.\n",
            "  if not value:\n"
          ]
        },
        {
          "name": "stdout",
          "output_type": "stream",
          "text": [
            "buy 4141\n",
            "sell 8011\n",
            "2019-11-26 00:00:00\n",
            "buy 4141\n",
            "sell 8011\n",
            "2019-12-10 00:00:00\n",
            "buy 4141\n",
            "sell 8011\n",
            "2019-12-11 00:00:00\n",
            "sell 8076\n",
            "buy 1513\n",
            "2020-01-16 00:00:00\n",
            "sell 8076\n",
            "buy 1513\n",
            "2020-01-17 00:00:00\n",
            "buy 4141\n",
            "sell 8011\n",
            "2020-02-19 00:00:00\n",
            "sell 3691\n",
            "buy 2406\n",
            "2020-03-06 00:00:00\n",
            "buy 1789\n",
            "sell 1337\n",
            "2020-03-09 00:00:00\n",
            "sell 8076\n",
            "buy 1513\n",
            "2020-04-27 00:00:00\n",
            "sell 8076\n",
            "buy 1513\n",
            "2020-04-30 00:00:00\n",
            "buy 4141\n",
            "sell 8011\n",
            "2020-04-30 00:00:00\n",
            "buy 4141\n",
            "sell 8011\n",
            "2020-05-04 00:00:00\n",
            "sell 8076\n",
            "buy 1513\n",
            "2020-05-08 00:00:00\n"
          ]
        },
        {
          "name": "stderr",
          "output_type": "stream",
          "text": [
            "WARNING:finlab.data:etl:adj_close -- Daily data usage: 28.5 / 500 MB\n",
            "WARNING:finlab.data:benchmark_return:發行量加權股價報酬指數 -- Daily data usage: 28.5 / 500 MB\n",
            "WARNING:finlab.data:security_categories -- Daily data usage: 28.6 / 500 MB\n"
          ]
        },
        {
          "data": {
            "text/html": [
              "\n",
              "        <iframe\n",
              "            width=\"100%\"\n",
              "            height=\"600\"\n",
              "            src=\"https://ai.finlab.tw/strategy/?uid=yZjQJduslWYhlAVHAEp2KlGXPVI2&sid=未命名\"\n",
              "            frameborder=\"0\"\n",
              "            allowfullscreen\n",
              "            \n",
              "        ></iframe>\n",
              "        "
            ],
            "text/plain": [
              "<IPython.lib.display.IFrame at 0x7f695f1c0730>"
            ]
          },
          "metadata": {},
          "output_type": "display_data"
        }
      ],
      "source": [
        "finlab.login('3+h4Fdg16bd02h9+vlzJ0UN9ivzo7Q5Hl5xUXOYMTNEuZW/x5ooa3eLr+6wz/kNk#free')\n",
        "position = 收盤價-收盤價\n",
        "position = position.fillna(0)\n",
        "for k in range(246, 246*7, 120):\n",
        "  print(\"pair change\")\n",
        "  stock_list = filter(0)\n",
        "  normalization, stock_name = normalize_data(stock_list)\n",
        "  all_dist = euclidean_dist(k, normalization)\n",
        "  new_index_array, name_index_array = smallest(all_dist, stock_name)\n",
        "  pair_diff_normalization, pair_mean = get_pair(new_index_array, name_index_array, normalization)\n",
        "  position = trade_period(k, position, pair_diff_normalization, name_index_array, pair_mean)\n",
        "report = sim(position, resample=None)"
      ]
    },
    {
      "cell_type": "code",
      "execution_count": null,
      "metadata": {
        "colab": {
          "base_uri": "https://localhost:8080/",
          "height": 1000
        },
        "id": "AExJZBwe8sZs",
        "outputId": "cf3cc267-957c-41bf-8b15-d9283fd4415a"
      },
      "outputs": [
        {
          "name": "stdout",
          "output_type": "stream",
          "text": [
            "輸入成功!\n",
            "pair change\n"
          ]
        },
        {
          "name": "stderr",
          "output_type": "stream",
          "text": [
            "<ipython-input-26-29c255cf7d12>:26: DeprecationWarning: The truth value of an empty array is ambiguous. Returning False, but in future this will result in an error. Use `array.size > 0` to check that an array is not empty.\n",
            "  if not value:\n"
          ]
        },
        {
          "name": "stdout",
          "output_type": "stream",
          "text": [
            "buy 2707\n",
            "sell 5508\n",
            "2019-03-07 00:00:00\n",
            "buy 2707\n",
            "sell 5508\n",
            "2019-03-08 00:00:00\n",
            "buy 2545\n",
            "sell 3149\n",
            "2019-03-20 00:00:00\n",
            "buy 2545\n",
            "sell 3149\n",
            "2019-03-21 00:00:00\n",
            "buy 2106\n",
            "sell 2603\n",
            "2019-04-29 00:00:00\n",
            "buy 2106\n",
            "sell 2603\n",
            "2019-04-30 00:00:00\n",
            "buy 2106\n",
            "sell 2603\n",
            "2019-07-01 00:00:00\n",
            "buy 2106\n",
            "sell 2603\n",
            "2019-07-02 00:00:00\n"
          ]
        },
        {
          "name": "stderr",
          "output_type": "stream",
          "text": [
            "<ipython-input-26-29c255cf7d12>:26: DeprecationWarning: The truth value of an empty array is ambiguous. Returning False, but in future this will result in an error. Use `array.size > 0` to check that an array is not empty.\n",
            "  if not value:\n"
          ]
        },
        {
          "name": "stdout",
          "output_type": "stream",
          "text": [
            "pair change\n",
            "buy 1337\n",
            "sell 3266\n",
            "2019-08-19 00:00:00\n",
            "buy 1337\n",
            "sell 3266\n",
            "2019-08-20 00:00:00\n",
            "stop 1337\n",
            "stop 3266\n",
            "stop 2106\n",
            "stop 4168\n",
            "pair change\n"
          ]
        },
        {
          "name": "stderr",
          "output_type": "stream",
          "text": [
            "<ipython-input-26-29c255cf7d12>:26: DeprecationWarning: The truth value of an empty array is ambiguous. Returning False, but in future this will result in an error. Use `array.size > 0` to check that an array is not empty.\n",
            "  if not value:\n"
          ]
        },
        {
          "name": "stdout",
          "output_type": "stream",
          "text": [
            "buy 4141\n",
            "sell 8011\n",
            "2020-02-19 00:00:00\n",
            "buy 4141\n",
            "sell 8011\n",
            "2020-04-30 00:00:00\n",
            "buy 4141\n",
            "sell 8011\n",
            "2020-05-04 00:00:00\n",
            "buy 4168\n",
            "sell 4152\n",
            "2020-05-26 00:00:00\n",
            "buy 4168\n",
            "sell 4152\n",
            "2020-05-27 00:00:00\n",
            "buy 3060\n",
            "sell 4128\n",
            "2020-06-03 00:00:00\n",
            "buy 3060\n",
            "sell 4128\n",
            "2020-06-04 00:00:00\n",
            "buy 4168\n",
            "sell 4152\n",
            "2020-06-10 00:00:00\n",
            "buy 4168\n",
            "sell 4152\n",
            "2020-06-11 00:00:00\n",
            "stop 3060\n",
            "stop 4128\n",
            "stop 4141\n",
            "stop 8011\n"
          ]
        },
        {
          "data": {
            "text/html": [
              "\n",
              "        <iframe\n",
              "            width=\"100%\"\n",
              "            height=\"600\"\n",
              "            src=\"https://ai.finlab.tw/strategy/?uid=yZjQJduslWYhlAVHAEp2KlGXPVI2&sid=未命名\"\n",
              "            frameborder=\"0\"\n",
              "            allowfullscreen\n",
              "            \n",
              "        ></iframe>\n",
              "        "
            ],
            "text/plain": [
              "<IPython.lib.display.IFrame at 0x7fa797f1c280>"
            ]
          },
          "metadata": {},
          "output_type": "display_data"
        }
      ],
      "source": [
        "finlab.login('3+h4Fdg16bd02h9+vlzJ0UN9ivzo7Q5Hl5xUXOYMTNEuZW/x5ooa3eLr+6wz/kNk#free')\n",
        "position = 收盤價-收盤價\n",
        "position = position.fillna(0)\n",
        "for k in range(246*6, 246*7, 120):\n",
        "  print(\"pair change\")\n",
        "  stock_list = filter(0)\n",
        "  normalization, stock_name = normalize_data(stock_list)\n",
        "  all_dist = euclidean_dist(k, normalization)\n",
        "  new_index_array, name_index_array = smallest(all_dist, stock_name)\n",
        "  pair_diff_normalization, pair_mean = get_pair(new_index_array, name_index_array, normalization)\n",
        "  position = trade_period(k, position, pair_diff_normalization, name_index_array, pair_mean)\n",
        "report = sim(position, resample=None)"
      ]
    },
    {
      "cell_type": "code",
      "execution_count": null,
      "metadata": {
        "colab": {
          "base_uri": "https://localhost:8080/",
          "height": 196
        },
        "id": "cDTfFTARx6Ae",
        "outputId": "87b1cf51-587d-4da7-907c-409ec0ce45ea"
      },
      "outputs": [
        {
          "name": "stdout",
          "output_type": "stream",
          "text": [
            "[[164 291]\n",
            " [258 304]\n",
            " [305 391]\n",
            " [261 271]\n",
            " [307 310]]\n",
            "[['2498', '3673'], ['3060', '4128'], ['4141', '8011'], ['3149', '3356'], ['4152', '4168']]\n"
          ]
        },
        {
          "data": {
            "text/plain": [
              "<Figure size 640x480 with 0 Axes>"
            ]
          },
          "metadata": {},
          "output_type": "display_data"
        },
        {
          "data": {
            "text/plain": [
              "<Figure size 640x480 with 0 Axes>"
            ]
          },
          "metadata": {},
          "output_type": "display_data"
        },
        {
          "data": {
            "text/plain": [
              "<Figure size 640x480 with 0 Axes>"
            ]
          },
          "metadata": {},
          "output_type": "display_data"
        },
        {
          "data": {
            "text/plain": [
              "<Figure size 640x480 with 0 Axes>"
            ]
          },
          "metadata": {},
          "output_type": "display_data"
        }
      ],
      "source": [
        "#print(收盤價.iloc[:,1])\n",
        "#print(normalization)\n",
        "#print(first_two_years)\n",
        "#print(all_dist)\n",
        "print(new_index_array)\n",
        "print(name_index_array)\n",
        "#print(df)\n",
        "#print(pair_mean)\n",
        "#print(pair_diff_normalization)\n",
        "normalization.iloc[:,126]\n",
        "fig1 = plt.figure()\n",
        "#plt.plot(pair_diff_normalization.iloc[:,0],'-')\n",
        "fig2 = plt.figure()\n",
        "#plt.plot(normalization.iloc[:,[224,337]],'-')\n",
        "fig3 = plt.figure()\n",
        "#plt.plot(pair_diff_normalization.iloc[:,1],'-')\n",
        "fig4 = plt.figure()\n",
        "#plt.plot(normalization.iloc[:,[277,307]],'-')"
      ]
    },
    {
      "cell_type": "code",
      "execution_count": null,
      "metadata": {
        "colab": {
          "base_uri": "https://localhost:8080/",
          "height": 1000
        },
        "id": "9lfiAGOpY-S0",
        "outputId": "3e8b5f78-f50a-4b24-8f8b-51c7c4d47dfd"
      },
      "outputs": [
        {
          "name": "stdout",
          "output_type": "stream",
          "text": [
            "[[164 291]\n",
            " [258 304]\n",
            " [305 391]\n",
            " [261 271]\n",
            " [307 310]]\n",
            "[['2498', '3673'], ['3060', '4128'], ['4141', '8011'], ['3149', '3356'], ['4152', '4168']]\n"
          ]
        },
        {
          "data": {
            "text/plain": [
              "[<matplotlib.lines.Line2D at 0x7fa798007b50>,\n",
              " <matplotlib.lines.Line2D at 0x7fa797db09a0>]"
            ]
          },
          "execution_count": 40,
          "metadata": {},
          "output_type": "execute_result"
        },
        {
          "data": {
            "image/png": "[encoded data removed]",
            "text/plain": [
              "<Figure size 640x480 with 1 Axes>"
            ]
          },
          "metadata": {},
          "output_type": "display_data"
        },
        {
          "data": {
            "image/png": "[encoded data removed]",
            "text/plain": [
              "<Figure size 640x480 with 1 Axes>"
            ]
          },
          "metadata": {},
          "output_type": "display_data"
        },
        {
          "data": {
            "image/png": "[encoded data removed]",
            "text/plain": [
              "<Figure size 640x480 with 1 Axes>"
            ]
          },
          "metadata": {},
          "output_type": "display_data"
        },
        {
          "data": {
            "image/png": "[encoded data removed]",
            "text/plain": [
              "<Figure size 640x480 with 1 Axes>"
            ]
          },
          "metadata": {},
          "output_type": "display_data"
        },
        {
          "data": {
            "image/png": "[encoded data removed]",
            "text/plain": [
              "<Figure size 640x480 with 1 Axes>"
            ]
          },
          "metadata": {},
          "output_type": "display_data"
        },
        {
          "data": {
            "image/png": "[encoded data removed]",
            "text/plain": [
              "<Figure size 640x480 with 1 Axes>"
            ]
          },
          "metadata": {},
          "output_type": "display_data"
        },
        {
          "data": {
            "image/png": "[encoded data removed]",
            "text/plain": [
              "<Figure size 640x480 with 1 Axes>"
            ]
          },
          "metadata": {},
          "output_type": "display_data"
        },
        {
          "data": {
            "image/png": "[encoded data removed]",
            "text/plain": [
              "<Figure size 640x480 with 1 Axes>"
            ]
          },
          "metadata": {},
          "output_type": "display_data"
        },
        {
          "data": {
            "image/png": "[encoded data removed]",
            "text/plain": [
              "<Figure size 640x480 with 1 Axes>"
            ]
          },
          "metadata": {},
          "output_type": "display_data"
        }
      ],
      "source": [
        "pd.set_option('display.max_columns', None)\n",
        "# 显示所有行\n",
        "pd.set_option('display.max_rows', None)\n",
        "#print(position.iloc[:,[171,173]])\n",
        "print(new_index_array)\n",
        "print(name_index_array)\n",
        "fig1 = plt.figure()\n",
        "plt.plot(position.loc[:,['2498', '3673']],'-')\n",
        "fig2 = plt.figure()\n",
        "plt.plot(position.loc[:,['3060', '4128']],'-')\n",
        "fig3 = plt.figure()\n",
        "plt.plot(position.loc[:,['4141', '8011']],'-')\n",
        "fig4 = plt.figure()\n",
        "plt.plot(position.loc[:,['3149', '3356']],'-')\n",
        "fig5 = plt.figure()\n",
        "plt.plot(position.loc[:,['3149', '3356']],'-')\n",
        "fig6 = plt.figure()\n",
        "plt.plot(position.loc[:,['4152', '4168']],'-')\n",
        "fig7 = plt.figure()\n",
        "plt.plot(position.loc[:,['4152', '4168']],'-')\n",
        "fig8 = plt.figure()\n",
        "plt.plot(position.loc[:,['2103', '6605']],'-')\n",
        "fig9 = plt.figure()\n",
        "plt.plot(position.loc[:,['1513', '8076']],'-')\n",
        "#print(position.loc[:,['2337','2338','2377','2404','2302','2368']])"
      ]
    },
    {
      "cell_type": "code",
      "execution_count": null,
      "metadata": {
        "colab": {
          "base_uri": "https://localhost:8080/",
          "height": 879
        },
        "id": "aRAj8pcpaXDD",
        "outputId": "a250ba7c-73ce-4a3a-f04b-05d0d87549d1"
      },
      "outputs": [
        {
          "data": {
            "text/plain": [
              "[<matplotlib.lines.Line2D at 0x7fa797f3f700>,\n",
              " <matplotlib.lines.Line2D at 0x7fa797ec91e0>]"
            ]
          },
          "execution_count": 43,
          "metadata": {},
          "output_type": "execute_result"
        },
        {
          "data": {
            "image/png": "[encoded data removed]",
            "text/plain": [
              "<Figure size 640x480 with 1 Axes>"
            ]
          },
          "metadata": {},
          "output_type": "display_data"
        },
        {
          "data": {
            "image/png": "[encoded data removed]",
            "text/plain": [
              "<Figure size 640x480 with 1 Axes>"
            ]
          },
          "metadata": {},
          "output_type": "display_data"
        }
      ],
      "source": [
        "fig1 = plt.figure()\n",
        "plt.plot(pair_diff_normalization.iloc[:,1],'-')\n",
        "fig2 = plt.figure()\n",
        "plt.plot(normalization.loc[:,['3060', '4128']],'-')\n"
      ]
    },
    {
      "cell_type": "code",
      "execution_count": null,
      "metadata": {
        "colab": {
          "base_uri": "https://localhost:8080/"
        },
        "id": "gKS9UlKKk2Eo",
        "outputId": "f7ff597e-5bf0-4225-fb52-eb81a861d33b"
      },
      "outputs": [
        {
          "name": "stdout",
          "output_type": "stream",
          "text": [
            "[[1 0]\n",
            " [1 1]]\n",
            "['2' '4555' '5' '6']\n"
          ]
        }
      ],
      "source": [
        "x = np.array([['111','2'],['3333','4555'],['5','6']])\n",
        "index = np.argwhere(x==['3333','4555'])\n",
        "print(index)\n",
        "x = np.delete(x, [0,2], None)\n",
        "print(x)\n"
      ]
    }
  ],
  "metadata": {
    "colab": {
      "provenance": []
    },
    "gpuClass": "standard",
    "kernelspec": {
      "display_name": "Python 3",
      "name": "python3"
    },
    "language_info": {
      "name": "python"
    }
  },
  "nbformat": 4,
  "nbformat_minor": 0
}
